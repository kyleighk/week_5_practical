{
  "nbformat": 4,
  "nbformat_minor": 5,
  "metadata": {
    "kernelspec": {
      "display_name": "R",
      "language": "R",
      "name": "ir"
    },
    "language_info": {
      "codemirror_mode": "r",
      "file_extension": ".r",
      "mimetype": "text/x-r-source",
      "name": "R",
      "pygments_lexer": "r",
      "version": "4.0.2"
    },
    "colab": {
      "name": "week_5_practical.ipynb",
      "provenance": []
    }
  },
  "cells": [
    {
      "cell_type": "code",
      "metadata": {
        "colab": {
          "base_uri": "https://localhost:8080/"
        },
        "id": "de0b52d1",
        "outputId": "7d50487c-6a10-4f24-ad12-87b93a5afa5e"
      },
      "source": [
        "library(tidyverse)"
      ],
      "id": "de0b52d1",
      "execution_count": 1,
      "outputs": [
        {
          "output_type": "stream",
          "name": "stderr",
          "text": [
            "Warning message in system(\"timedatectl\", intern = TRUE):\n",
            "“running command 'timedatectl' had status 1”\n",
            "── \u001b[1mAttaching packages\u001b[22m ─────────────────────────────────────── tidyverse 1.3.1 ──\n",
            "\n",
            "\u001b[32m✔\u001b[39m \u001b[34mggplot2\u001b[39m 3.3.5     \u001b[32m✔\u001b[39m \u001b[34mpurrr  \u001b[39m 0.3.4\n",
            "\u001b[32m✔\u001b[39m \u001b[34mtibble \u001b[39m 3.1.4     \u001b[32m✔\u001b[39m \u001b[34mdplyr  \u001b[39m 1.0.7\n",
            "\u001b[32m✔\u001b[39m \u001b[34mtidyr  \u001b[39m 1.1.3     \u001b[32m✔\u001b[39m \u001b[34mstringr\u001b[39m 1.4.0\n",
            "\u001b[32m✔\u001b[39m \u001b[34mreadr  \u001b[39m 2.0.1     \u001b[32m✔\u001b[39m \u001b[34mforcats\u001b[39m 0.5.1\n",
            "\n",
            "── \u001b[1mConflicts\u001b[22m ────────────────────────────────────────── tidyverse_conflicts() ──\n",
            "\u001b[31m✖\u001b[39m \u001b[34mdplyr\u001b[39m::\u001b[32mfilter()\u001b[39m masks \u001b[34mstats\u001b[39m::filter()\n",
            "\u001b[31m✖\u001b[39m \u001b[34mdplyr\u001b[39m::\u001b[32mlag()\u001b[39m    masks \u001b[34mstats\u001b[39m::lag()\n",
            "\n"
          ]
        }
      ]
    },
    {
      "cell_type": "markdown",
      "metadata": {
        "id": "526a84d8"
      },
      "source": [
        "Q0. Write a function that takes a vector and replaced it with the mean of the that vector\n",
        "  * Let's call that function `replace_na_mean`\n",
        "\n",
        "  * Try your function using the following snippet:\n",
        "\n",
        "```\n",
        "replace_na_mean(c(1, NA, 2, 3, 2, 2, NA))\n",
        "```"
      ],
      "id": "526a84d8"
    },
    {
      "cell_type": "code",
      "metadata": {
        "colab": {
          "base_uri": "https://localhost:8080/"
        },
        "id": "mAJqW30oH4UT",
        "outputId": "f190800c-ea16-4ae2-fb57-727abca903a5"
      },
      "source": [
        "try = c(1, 2, NA, 3, NA)\n",
        "#mean(x, na.rm = TRUE)\n",
        "   try[is.na(try)] = 7\n",
        "   print(try)"
      ],
      "id": "mAJqW30oH4UT",
      "execution_count": null,
      "outputs": [
        {
          "output_type": "stream",
          "name": "stdout",
          "text": [
            "[1] 1 2 7 3 7\n"
          ]
        }
      ]
    },
    {
      "cell_type": "code",
      "metadata": {
        "id": "ef2e6b4d",
        "colab": {
          "base_uri": "https://localhost:8080/",
          "height": 34
        },
        "outputId": "6ffd4f92-2c2e-48fd-c0f0-798a0236f8bd"
      },
      "source": [
        "### Write your code here\n",
        "replace_na_mean = function(tryagain){\n",
        "  tryagain[is.na(tryagain)] = mean(tryagain, na.rm = TRUE) \n",
        "  tryagain\n",
        "}\n",
        "replace_na_mean(c(1, 2, NA, 5, NA)) \n"
      ],
      "id": "ef2e6b4d",
      "execution_count": 2,
      "outputs": [
        {
          "output_type": "display_data",
          "data": {
            "text/plain": [
              "[1] 1.000000 2.000000 2.666667 5.000000 2.666667"
            ],
            "text/latex": "\\begin{enumerate*}\n\\item 1\n\\item 2\n\\item 2.66666666666667\n\\item 5\n\\item 2.66666666666667\n\\end{enumerate*}\n",
            "text/markdown": "1. 1\n2. 2\n3. 2.66666666666667\n4. 5\n5. 2.66666666666667\n\n\n",
            "text/html": [
              "<style>\n",
              ".list-inline {list-style: none; margin:0; padding: 0}\n",
              ".list-inline>li {display: inline-block}\n",
              ".list-inline>li:not(:last-child)::after {content: \"\\00b7\"; padding: 0 .5ex}\n",
              "</style>\n",
              "<ol class=list-inline><li>1</li><li>2</li><li>2.66666666666667</li><li>5</li><li>2.66666666666667</li></ol>\n"
            ]
          },
          "metadata": {}
        }
      ]
    },
    {
      "cell_type": "code",
      "metadata": {
        "id": "d5GL9VKNj6dx"
      },
      "source": [
        "replace_this = function(oops){\n",
        "    oops[is.na(oops)] = mean(oops, na.rm = TRUE)\n",
        "    oops\n",
        "}"
      ],
      "id": "d5GL9VKNj6dx",
      "execution_count": 3,
      "outputs": []
    },
    {
      "cell_type": "code",
      "metadata": {
        "id": "qZs9Sul0VUbS",
        "colab": {
          "base_uri": "https://localhost:8080/",
          "height": 34
        },
        "outputId": "8d47c53b-86ee-4670-d7eb-cf11a48f601b"
      },
      "source": [
        "replace_this(c(1, 5, NA, 12, NA))"
      ],
      "id": "qZs9Sul0VUbS",
      "execution_count": 4,
      "outputs": [
        {
          "output_type": "display_data",
          "data": {
            "text/plain": [
              "[1]  1  5  6 12  6"
            ],
            "text/latex": "\\begin{enumerate*}\n\\item 1\n\\item 5\n\\item 6\n\\item 12\n\\item 6\n\\end{enumerate*}\n",
            "text/markdown": "1. 1\n2. 5\n3. 6\n4. 12\n5. 6\n\n\n",
            "text/html": [
              "<style>\n",
              ".list-inline {list-style: none; margin:0; padding: 0}\n",
              ".list-inline>li {display: inline-block}\n",
              ".list-inline>li:not(:last-child)::after {content: \"\\00b7\"; padding: 0 .5ex}\n",
              "</style>\n",
              "<ol class=list-inline><li>1</li><li>5</li><li>6</li><li>12</li><li>6</li></ol>\n"
            ]
          },
          "metadata": {}
        }
      ]
    },
    {
      "cell_type": "markdown",
      "metadata": {
        "id": "b4207bca"
      },
      "source": [
        "Q1. Write a function that returns the sample space for the experiment consisting of samplign a 4 digit PIN\n",
        "  * Call your function get_all_perms\n",
        "\n",
        "  * Essentially, your function does not take any arguments but returns the sample space consisting of all the four digit numbers\n",
        "   \n",
        "  * The function `expand.grid` expand.grid creates a data frame from all combinations of the supplied vectors or factors. For example:\n",
        " \n",
        "  ```expand.grid(0:1, 0:1, 0:1)```\n",
        "\n",
        "* generates  \n",
        "\n",
        "![](https://www.dropbox.com/s/cnlt4fg8rxd01d6/expand.grid.png?dl=1)\n",
        " \n",
        "\n",
        "* Strategy, use `expand.grid` to generate the permutation for four verctation in the range 0:9\n",
        "  * Return the number of rows in that `data.frame`\n",
        "\n",
        "  "
      ],
      "id": "b4207bca"
    },
    {
      "cell_type": "code",
      "metadata": {
        "id": "e559210c"
      },
      "source": [
        "### Write your code here\n",
        "\n",
        "get_all_perms = function(x){\n",
        "  data.frame(expand.grid(0:9, 0:9, 0:9, 0:9))\n",
        "  \n",
        "}\n"
      ],
      "id": "e559210c",
      "execution_count": 5,
      "outputs": []
    },
    {
      "cell_type": "code",
      "metadata": {
        "colab": {
          "base_uri": "https://localhost:8080/",
          "height": 1000
        },
        "id": "5c7bf775",
        "outputId": "29085f77-5122-4439-c5d7-082c536ff270"
      },
      "source": [
        "# Running this should return 10,000\n",
        "get_all_perms()"
      ],
      "id": "5c7bf775",
      "execution_count": 6,
      "outputs": [
        {
          "output_type": "display_data",
          "data": {
            "text/plain": [
              "      Var1 Var2 Var3 Var4\n",
              "1     0    0    0    0   \n",
              "2     1    0    0    0   \n",
              "3     2    0    0    0   \n",
              "4     3    0    0    0   \n",
              "5     4    0    0    0   \n",
              "6     5    0    0    0   \n",
              "7     6    0    0    0   \n",
              "8     7    0    0    0   \n",
              "9     8    0    0    0   \n",
              "10    9    0    0    0   \n",
              "11    0    1    0    0   \n",
              "12    1    1    0    0   \n",
              "13    2    1    0    0   \n",
              "14    3    1    0    0   \n",
              "15    4    1    0    0   \n",
              "16    5    1    0    0   \n",
              "17    6    1    0    0   \n",
              "18    7    1    0    0   \n",
              "19    8    1    0    0   \n",
              "20    9    1    0    0   \n",
              "21    0    2    0    0   \n",
              "22    1    2    0    0   \n",
              "23    2    2    0    0   \n",
              "24    3    2    0    0   \n",
              "25    4    2    0    0   \n",
              "26    5    2    0    0   \n",
              "27    6    2    0    0   \n",
              "28    7    2    0    0   \n",
              "29    8    2    0    0   \n",
              "30    9    2    0    0   \n",
              "⋮     ⋮    ⋮    ⋮    ⋮   \n",
              "9971  0    7    9    9   \n",
              "9972  1    7    9    9   \n",
              "9973  2    7    9    9   \n",
              "9974  3    7    9    9   \n",
              "9975  4    7    9    9   \n",
              "9976  5    7    9    9   \n",
              "9977  6    7    9    9   \n",
              "9978  7    7    9    9   \n",
              "9979  8    7    9    9   \n",
              "9980  9    7    9    9   \n",
              "9981  0    8    9    9   \n",
              "9982  1    8    9    9   \n",
              "9983  2    8    9    9   \n",
              "9984  3    8    9    9   \n",
              "9985  4    8    9    9   \n",
              "9986  5    8    9    9   \n",
              "9987  6    8    9    9   \n",
              "9988  7    8    9    9   \n",
              "9989  8    8    9    9   \n",
              "9990  9    8    9    9   \n",
              "9991  0    9    9    9   \n",
              "9992  1    9    9    9   \n",
              "9993  2    9    9    9   \n",
              "9994  3    9    9    9   \n",
              "9995  4    9    9    9   \n",
              "9996  5    9    9    9   \n",
              "9997  6    9    9    9   \n",
              "9998  7    9    9    9   \n",
              "9999  8    9    9    9   \n",
              "10000 9    9    9    9   "
            ],
            "text/latex": "A data.frame: 10000 × 4\n\\begin{tabular}{llll}\n Var1 & Var2 & Var3 & Var4\\\\\n <int> & <int> & <int> & <int>\\\\\n\\hline\n\t 0 & 0 & 0 & 0\\\\\n\t 1 & 0 & 0 & 0\\\\\n\t 2 & 0 & 0 & 0\\\\\n\t 3 & 0 & 0 & 0\\\\\n\t 4 & 0 & 0 & 0\\\\\n\t 5 & 0 & 0 & 0\\\\\n\t 6 & 0 & 0 & 0\\\\\n\t 7 & 0 & 0 & 0\\\\\n\t 8 & 0 & 0 & 0\\\\\n\t 9 & 0 & 0 & 0\\\\\n\t 0 & 1 & 0 & 0\\\\\n\t 1 & 1 & 0 & 0\\\\\n\t 2 & 1 & 0 & 0\\\\\n\t 3 & 1 & 0 & 0\\\\\n\t 4 & 1 & 0 & 0\\\\\n\t 5 & 1 & 0 & 0\\\\\n\t 6 & 1 & 0 & 0\\\\\n\t 7 & 1 & 0 & 0\\\\\n\t 8 & 1 & 0 & 0\\\\\n\t 9 & 1 & 0 & 0\\\\\n\t 0 & 2 & 0 & 0\\\\\n\t 1 & 2 & 0 & 0\\\\\n\t 2 & 2 & 0 & 0\\\\\n\t 3 & 2 & 0 & 0\\\\\n\t 4 & 2 & 0 & 0\\\\\n\t 5 & 2 & 0 & 0\\\\\n\t 6 & 2 & 0 & 0\\\\\n\t 7 & 2 & 0 & 0\\\\\n\t 8 & 2 & 0 & 0\\\\\n\t 9 & 2 & 0 & 0\\\\\n\t ⋮ & ⋮ & ⋮ & ⋮\\\\\n\t 0 & 7 & 9 & 9\\\\\n\t 1 & 7 & 9 & 9\\\\\n\t 2 & 7 & 9 & 9\\\\\n\t 3 & 7 & 9 & 9\\\\\n\t 4 & 7 & 9 & 9\\\\\n\t 5 & 7 & 9 & 9\\\\\n\t 6 & 7 & 9 & 9\\\\\n\t 7 & 7 & 9 & 9\\\\\n\t 8 & 7 & 9 & 9\\\\\n\t 9 & 7 & 9 & 9\\\\\n\t 0 & 8 & 9 & 9\\\\\n\t 1 & 8 & 9 & 9\\\\\n\t 2 & 8 & 9 & 9\\\\\n\t 3 & 8 & 9 & 9\\\\\n\t 4 & 8 & 9 & 9\\\\\n\t 5 & 8 & 9 & 9\\\\\n\t 6 & 8 & 9 & 9\\\\\n\t 7 & 8 & 9 & 9\\\\\n\t 8 & 8 & 9 & 9\\\\\n\t 9 & 8 & 9 & 9\\\\\n\t 0 & 9 & 9 & 9\\\\\n\t 1 & 9 & 9 & 9\\\\\n\t 2 & 9 & 9 & 9\\\\\n\t 3 & 9 & 9 & 9\\\\\n\t 4 & 9 & 9 & 9\\\\\n\t 5 & 9 & 9 & 9\\\\\n\t 6 & 9 & 9 & 9\\\\\n\t 7 & 9 & 9 & 9\\\\\n\t 8 & 9 & 9 & 9\\\\\n\t 9 & 9 & 9 & 9\\\\\n\\end{tabular}\n",
            "text/markdown": "\nA data.frame: 10000 × 4\n\n| Var1 &lt;int&gt; | Var2 &lt;int&gt; | Var3 &lt;int&gt; | Var4 &lt;int&gt; |\n|---|---|---|---|\n| 0 | 0 | 0 | 0 |\n| 1 | 0 | 0 | 0 |\n| 2 | 0 | 0 | 0 |\n| 3 | 0 | 0 | 0 |\n| 4 | 0 | 0 | 0 |\n| 5 | 0 | 0 | 0 |\n| 6 | 0 | 0 | 0 |\n| 7 | 0 | 0 | 0 |\n| 8 | 0 | 0 | 0 |\n| 9 | 0 | 0 | 0 |\n| 0 | 1 | 0 | 0 |\n| 1 | 1 | 0 | 0 |\n| 2 | 1 | 0 | 0 |\n| 3 | 1 | 0 | 0 |\n| 4 | 1 | 0 | 0 |\n| 5 | 1 | 0 | 0 |\n| 6 | 1 | 0 | 0 |\n| 7 | 1 | 0 | 0 |\n| 8 | 1 | 0 | 0 |\n| 9 | 1 | 0 | 0 |\n| 0 | 2 | 0 | 0 |\n| 1 | 2 | 0 | 0 |\n| 2 | 2 | 0 | 0 |\n| 3 | 2 | 0 | 0 |\n| 4 | 2 | 0 | 0 |\n| 5 | 2 | 0 | 0 |\n| 6 | 2 | 0 | 0 |\n| 7 | 2 | 0 | 0 |\n| 8 | 2 | 0 | 0 |\n| 9 | 2 | 0 | 0 |\n| ⋮ | ⋮ | ⋮ | ⋮ |\n| 0 | 7 | 9 | 9 |\n| 1 | 7 | 9 | 9 |\n| 2 | 7 | 9 | 9 |\n| 3 | 7 | 9 | 9 |\n| 4 | 7 | 9 | 9 |\n| 5 | 7 | 9 | 9 |\n| 6 | 7 | 9 | 9 |\n| 7 | 7 | 9 | 9 |\n| 8 | 7 | 9 | 9 |\n| 9 | 7 | 9 | 9 |\n| 0 | 8 | 9 | 9 |\n| 1 | 8 | 9 | 9 |\n| 2 | 8 | 9 | 9 |\n| 3 | 8 | 9 | 9 |\n| 4 | 8 | 9 | 9 |\n| 5 | 8 | 9 | 9 |\n| 6 | 8 | 9 | 9 |\n| 7 | 8 | 9 | 9 |\n| 8 | 8 | 9 | 9 |\n| 9 | 8 | 9 | 9 |\n| 0 | 9 | 9 | 9 |\n| 1 | 9 | 9 | 9 |\n| 2 | 9 | 9 | 9 |\n| 3 | 9 | 9 | 9 |\n| 4 | 9 | 9 | 9 |\n| 5 | 9 | 9 | 9 |\n| 6 | 9 | 9 | 9 |\n| 7 | 9 | 9 | 9 |\n| 8 | 9 | 9 | 9 |\n| 9 | 9 | 9 | 9 |\n\n",
            "text/html": [
              "<table class=\"dataframe\">\n",
              "<caption>A data.frame: 10000 × 4</caption>\n",
              "<thead>\n",
              "\t<tr><th scope=col>Var1</th><th scope=col>Var2</th><th scope=col>Var3</th><th scope=col>Var4</th></tr>\n",
              "\t<tr><th scope=col>&lt;int&gt;</th><th scope=col>&lt;int&gt;</th><th scope=col>&lt;int&gt;</th><th scope=col>&lt;int&gt;</th></tr>\n",
              "</thead>\n",
              "<tbody>\n",
              "\t<tr><td>0</td><td>0</td><td>0</td><td>0</td></tr>\n",
              "\t<tr><td>1</td><td>0</td><td>0</td><td>0</td></tr>\n",
              "\t<tr><td>2</td><td>0</td><td>0</td><td>0</td></tr>\n",
              "\t<tr><td>3</td><td>0</td><td>0</td><td>0</td></tr>\n",
              "\t<tr><td>4</td><td>0</td><td>0</td><td>0</td></tr>\n",
              "\t<tr><td>5</td><td>0</td><td>0</td><td>0</td></tr>\n",
              "\t<tr><td>6</td><td>0</td><td>0</td><td>0</td></tr>\n",
              "\t<tr><td>7</td><td>0</td><td>0</td><td>0</td></tr>\n",
              "\t<tr><td>8</td><td>0</td><td>0</td><td>0</td></tr>\n",
              "\t<tr><td>9</td><td>0</td><td>0</td><td>0</td></tr>\n",
              "\t<tr><td>0</td><td>1</td><td>0</td><td>0</td></tr>\n",
              "\t<tr><td>1</td><td>1</td><td>0</td><td>0</td></tr>\n",
              "\t<tr><td>2</td><td>1</td><td>0</td><td>0</td></tr>\n",
              "\t<tr><td>3</td><td>1</td><td>0</td><td>0</td></tr>\n",
              "\t<tr><td>4</td><td>1</td><td>0</td><td>0</td></tr>\n",
              "\t<tr><td>5</td><td>1</td><td>0</td><td>0</td></tr>\n",
              "\t<tr><td>6</td><td>1</td><td>0</td><td>0</td></tr>\n",
              "\t<tr><td>7</td><td>1</td><td>0</td><td>0</td></tr>\n",
              "\t<tr><td>8</td><td>1</td><td>0</td><td>0</td></tr>\n",
              "\t<tr><td>9</td><td>1</td><td>0</td><td>0</td></tr>\n",
              "\t<tr><td>0</td><td>2</td><td>0</td><td>0</td></tr>\n",
              "\t<tr><td>1</td><td>2</td><td>0</td><td>0</td></tr>\n",
              "\t<tr><td>2</td><td>2</td><td>0</td><td>0</td></tr>\n",
              "\t<tr><td>3</td><td>2</td><td>0</td><td>0</td></tr>\n",
              "\t<tr><td>4</td><td>2</td><td>0</td><td>0</td></tr>\n",
              "\t<tr><td>5</td><td>2</td><td>0</td><td>0</td></tr>\n",
              "\t<tr><td>6</td><td>2</td><td>0</td><td>0</td></tr>\n",
              "\t<tr><td>7</td><td>2</td><td>0</td><td>0</td></tr>\n",
              "\t<tr><td>8</td><td>2</td><td>0</td><td>0</td></tr>\n",
              "\t<tr><td>9</td><td>2</td><td>0</td><td>0</td></tr>\n",
              "\t<tr><td>⋮</td><td>⋮</td><td>⋮</td><td>⋮</td></tr>\n",
              "\t<tr><td>0</td><td>7</td><td>9</td><td>9</td></tr>\n",
              "\t<tr><td>1</td><td>7</td><td>9</td><td>9</td></tr>\n",
              "\t<tr><td>2</td><td>7</td><td>9</td><td>9</td></tr>\n",
              "\t<tr><td>3</td><td>7</td><td>9</td><td>9</td></tr>\n",
              "\t<tr><td>4</td><td>7</td><td>9</td><td>9</td></tr>\n",
              "\t<tr><td>5</td><td>7</td><td>9</td><td>9</td></tr>\n",
              "\t<tr><td>6</td><td>7</td><td>9</td><td>9</td></tr>\n",
              "\t<tr><td>7</td><td>7</td><td>9</td><td>9</td></tr>\n",
              "\t<tr><td>8</td><td>7</td><td>9</td><td>9</td></tr>\n",
              "\t<tr><td>9</td><td>7</td><td>9</td><td>9</td></tr>\n",
              "\t<tr><td>0</td><td>8</td><td>9</td><td>9</td></tr>\n",
              "\t<tr><td>1</td><td>8</td><td>9</td><td>9</td></tr>\n",
              "\t<tr><td>2</td><td>8</td><td>9</td><td>9</td></tr>\n",
              "\t<tr><td>3</td><td>8</td><td>9</td><td>9</td></tr>\n",
              "\t<tr><td>4</td><td>8</td><td>9</td><td>9</td></tr>\n",
              "\t<tr><td>5</td><td>8</td><td>9</td><td>9</td></tr>\n",
              "\t<tr><td>6</td><td>8</td><td>9</td><td>9</td></tr>\n",
              "\t<tr><td>7</td><td>8</td><td>9</td><td>9</td></tr>\n",
              "\t<tr><td>8</td><td>8</td><td>9</td><td>9</td></tr>\n",
              "\t<tr><td>9</td><td>8</td><td>9</td><td>9</td></tr>\n",
              "\t<tr><td>0</td><td>9</td><td>9</td><td>9</td></tr>\n",
              "\t<tr><td>1</td><td>9</td><td>9</td><td>9</td></tr>\n",
              "\t<tr><td>2</td><td>9</td><td>9</td><td>9</td></tr>\n",
              "\t<tr><td>3</td><td>9</td><td>9</td><td>9</td></tr>\n",
              "\t<tr><td>4</td><td>9</td><td>9</td><td>9</td></tr>\n",
              "\t<tr><td>5</td><td>9</td><td>9</td><td>9</td></tr>\n",
              "\t<tr><td>6</td><td>9</td><td>9</td><td>9</td></tr>\n",
              "\t<tr><td>7</td><td>9</td><td>9</td><td>9</td></tr>\n",
              "\t<tr><td>8</td><td>9</td><td>9</td><td>9</td></tr>\n",
              "\t<tr><td>9</td><td>9</td><td>9</td><td>9</td></tr>\n",
              "</tbody>\n",
              "</table>\n"
            ]
          },
          "metadata": {}
        }
      ]
    },
    {
      "cell_type": "markdown",
      "metadata": {
        "id": "7b5f5dec"
      },
      "source": [
        "Q2. The function above is not very useful since it always computes the same thing, namely the number of possible permutation of digits. One way to make it more useful is by passing as an argument the number of digits to consider, i.e., the number of columns in `expand.grid`. Let;s call that param `size`, which by default should be `4`. For exmaple:\n",
        "\n",
        "*  `get_all_perms(size = 1 )` will return all the number of size 1 (0-9)\n",
        "*  `get_all_perms(size = 3 )` will return all the permutations of size 3 (000 - to 999)\n",
        "\n",
        "\n",
        "* Hint: `expand.grid` requires the number of input parameters to match the permutation length. We need to automate that so that the number of vectors passed as input matches the `size` values passed into `get_all_perms`\n",
        "  * We can do that using `replicate`\n",
        "  * `replicate(2, c(1,2,3), simplify=FALSE)` will repeat the vector `c(1,2,3)` twice\n",
        "    * We need to pass `replicate` the value `simplify=FALSE` so that it does not convert the output for us into a matrix\n",
        "  * Use pipe (`%>%`) pass the output of `replicate` into expand.grid\n",
        "  * Make sure replicated generate the correct input for exand.grid\n",
        "  "
      ],
      "id": "7b5f5dec"
    },
    {
      "cell_type": "code",
      "metadata": {
        "id": "a45bbd1d"
      },
      "source": [
        "### Write your code here\n",
        "\n",
        "try_GAP = function(x){\n",
        "    replicate(x, c(0:9), simplify = FALSE) %>%\n",
        "    expand.grid\n",
        "}\n",
        " "
      ],
      "id": "a45bbd1d",
      "execution_count": 7,
      "outputs": []
    },
    {
      "cell_type": "code",
      "metadata": {
        "colab": {
          "base_uri": "https://localhost:8080/",
          "height": 1000
        },
        "id": "PfIr4OtcqPcq",
        "outputId": "71d71a16-cafa-4af2-8e3c-b08c0541b3f3"
      },
      "source": [
        "try_GAP(2)"
      ],
      "id": "PfIr4OtcqPcq",
      "execution_count": 8,
      "outputs": [
        {
          "output_type": "display_data",
          "data": {
            "text/plain": [
              "    Var1 Var2\n",
              "1   0    0   \n",
              "2   1    0   \n",
              "3   2    0   \n",
              "4   3    0   \n",
              "5   4    0   \n",
              "6   5    0   \n",
              "7   6    0   \n",
              "8   7    0   \n",
              "9   8    0   \n",
              "10  9    0   \n",
              "11  0    1   \n",
              "12  1    1   \n",
              "13  2    1   \n",
              "14  3    1   \n",
              "15  4    1   \n",
              "16  5    1   \n",
              "17  6    1   \n",
              "18  7    1   \n",
              "19  8    1   \n",
              "20  9    1   \n",
              "21  0    2   \n",
              "22  1    2   \n",
              "23  2    2   \n",
              "24  3    2   \n",
              "25  4    2   \n",
              "26  5    2   \n",
              "27  6    2   \n",
              "28  7    2   \n",
              "29  8    2   \n",
              "30  9    2   \n",
              "⋮   ⋮    ⋮   \n",
              "71  0    7   \n",
              "72  1    7   \n",
              "73  2    7   \n",
              "74  3    7   \n",
              "75  4    7   \n",
              "76  5    7   \n",
              "77  6    7   \n",
              "78  7    7   \n",
              "79  8    7   \n",
              "80  9    7   \n",
              "81  0    8   \n",
              "82  1    8   \n",
              "83  2    8   \n",
              "84  3    8   \n",
              "85  4    8   \n",
              "86  5    8   \n",
              "87  6    8   \n",
              "88  7    8   \n",
              "89  8    8   \n",
              "90  9    8   \n",
              "91  0    9   \n",
              "92  1    9   \n",
              "93  2    9   \n",
              "94  3    9   \n",
              "95  4    9   \n",
              "96  5    9   \n",
              "97  6    9   \n",
              "98  7    9   \n",
              "99  8    9   \n",
              "100 9    9   "
            ],
            "text/latex": "A data.frame: 100 × 2\n\\begin{tabular}{ll}\n Var1 & Var2\\\\\n <int> & <int>\\\\\n\\hline\n\t 0 & 0\\\\\n\t 1 & 0\\\\\n\t 2 & 0\\\\\n\t 3 & 0\\\\\n\t 4 & 0\\\\\n\t 5 & 0\\\\\n\t 6 & 0\\\\\n\t 7 & 0\\\\\n\t 8 & 0\\\\\n\t 9 & 0\\\\\n\t 0 & 1\\\\\n\t 1 & 1\\\\\n\t 2 & 1\\\\\n\t 3 & 1\\\\\n\t 4 & 1\\\\\n\t 5 & 1\\\\\n\t 6 & 1\\\\\n\t 7 & 1\\\\\n\t 8 & 1\\\\\n\t 9 & 1\\\\\n\t 0 & 2\\\\\n\t 1 & 2\\\\\n\t 2 & 2\\\\\n\t 3 & 2\\\\\n\t 4 & 2\\\\\n\t 5 & 2\\\\\n\t 6 & 2\\\\\n\t 7 & 2\\\\\n\t 8 & 2\\\\\n\t 9 & 2\\\\\n\t ⋮ & ⋮\\\\\n\t 0 & 7\\\\\n\t 1 & 7\\\\\n\t 2 & 7\\\\\n\t 3 & 7\\\\\n\t 4 & 7\\\\\n\t 5 & 7\\\\\n\t 6 & 7\\\\\n\t 7 & 7\\\\\n\t 8 & 7\\\\\n\t 9 & 7\\\\\n\t 0 & 8\\\\\n\t 1 & 8\\\\\n\t 2 & 8\\\\\n\t 3 & 8\\\\\n\t 4 & 8\\\\\n\t 5 & 8\\\\\n\t 6 & 8\\\\\n\t 7 & 8\\\\\n\t 8 & 8\\\\\n\t 9 & 8\\\\\n\t 0 & 9\\\\\n\t 1 & 9\\\\\n\t 2 & 9\\\\\n\t 3 & 9\\\\\n\t 4 & 9\\\\\n\t 5 & 9\\\\\n\t 6 & 9\\\\\n\t 7 & 9\\\\\n\t 8 & 9\\\\\n\t 9 & 9\\\\\n\\end{tabular}\n",
            "text/markdown": "\nA data.frame: 100 × 2\n\n| Var1 &lt;int&gt; | Var2 &lt;int&gt; |\n|---|---|\n| 0 | 0 |\n| 1 | 0 |\n| 2 | 0 |\n| 3 | 0 |\n| 4 | 0 |\n| 5 | 0 |\n| 6 | 0 |\n| 7 | 0 |\n| 8 | 0 |\n| 9 | 0 |\n| 0 | 1 |\n| 1 | 1 |\n| 2 | 1 |\n| 3 | 1 |\n| 4 | 1 |\n| 5 | 1 |\n| 6 | 1 |\n| 7 | 1 |\n| 8 | 1 |\n| 9 | 1 |\n| 0 | 2 |\n| 1 | 2 |\n| 2 | 2 |\n| 3 | 2 |\n| 4 | 2 |\n| 5 | 2 |\n| 6 | 2 |\n| 7 | 2 |\n| 8 | 2 |\n| 9 | 2 |\n| ⋮ | ⋮ |\n| 0 | 7 |\n| 1 | 7 |\n| 2 | 7 |\n| 3 | 7 |\n| 4 | 7 |\n| 5 | 7 |\n| 6 | 7 |\n| 7 | 7 |\n| 8 | 7 |\n| 9 | 7 |\n| 0 | 8 |\n| 1 | 8 |\n| 2 | 8 |\n| 3 | 8 |\n| 4 | 8 |\n| 5 | 8 |\n| 6 | 8 |\n| 7 | 8 |\n| 8 | 8 |\n| 9 | 8 |\n| 0 | 9 |\n| 1 | 9 |\n| 2 | 9 |\n| 3 | 9 |\n| 4 | 9 |\n| 5 | 9 |\n| 6 | 9 |\n| 7 | 9 |\n| 8 | 9 |\n| 9 | 9 |\n\n",
            "text/html": [
              "<table class=\"dataframe\">\n",
              "<caption>A data.frame: 100 × 2</caption>\n",
              "<thead>\n",
              "\t<tr><th scope=col>Var1</th><th scope=col>Var2</th></tr>\n",
              "\t<tr><th scope=col>&lt;int&gt;</th><th scope=col>&lt;int&gt;</th></tr>\n",
              "</thead>\n",
              "<tbody>\n",
              "\t<tr><td>0</td><td>0</td></tr>\n",
              "\t<tr><td>1</td><td>0</td></tr>\n",
              "\t<tr><td>2</td><td>0</td></tr>\n",
              "\t<tr><td>3</td><td>0</td></tr>\n",
              "\t<tr><td>4</td><td>0</td></tr>\n",
              "\t<tr><td>5</td><td>0</td></tr>\n",
              "\t<tr><td>6</td><td>0</td></tr>\n",
              "\t<tr><td>7</td><td>0</td></tr>\n",
              "\t<tr><td>8</td><td>0</td></tr>\n",
              "\t<tr><td>9</td><td>0</td></tr>\n",
              "\t<tr><td>0</td><td>1</td></tr>\n",
              "\t<tr><td>1</td><td>1</td></tr>\n",
              "\t<tr><td>2</td><td>1</td></tr>\n",
              "\t<tr><td>3</td><td>1</td></tr>\n",
              "\t<tr><td>4</td><td>1</td></tr>\n",
              "\t<tr><td>5</td><td>1</td></tr>\n",
              "\t<tr><td>6</td><td>1</td></tr>\n",
              "\t<tr><td>7</td><td>1</td></tr>\n",
              "\t<tr><td>8</td><td>1</td></tr>\n",
              "\t<tr><td>9</td><td>1</td></tr>\n",
              "\t<tr><td>0</td><td>2</td></tr>\n",
              "\t<tr><td>1</td><td>2</td></tr>\n",
              "\t<tr><td>2</td><td>2</td></tr>\n",
              "\t<tr><td>3</td><td>2</td></tr>\n",
              "\t<tr><td>4</td><td>2</td></tr>\n",
              "\t<tr><td>5</td><td>2</td></tr>\n",
              "\t<tr><td>6</td><td>2</td></tr>\n",
              "\t<tr><td>7</td><td>2</td></tr>\n",
              "\t<tr><td>8</td><td>2</td></tr>\n",
              "\t<tr><td>9</td><td>2</td></tr>\n",
              "\t<tr><td>⋮</td><td>⋮</td></tr>\n",
              "\t<tr><td>0</td><td>7</td></tr>\n",
              "\t<tr><td>1</td><td>7</td></tr>\n",
              "\t<tr><td>2</td><td>7</td></tr>\n",
              "\t<tr><td>3</td><td>7</td></tr>\n",
              "\t<tr><td>4</td><td>7</td></tr>\n",
              "\t<tr><td>5</td><td>7</td></tr>\n",
              "\t<tr><td>6</td><td>7</td></tr>\n",
              "\t<tr><td>7</td><td>7</td></tr>\n",
              "\t<tr><td>8</td><td>7</td></tr>\n",
              "\t<tr><td>9</td><td>7</td></tr>\n",
              "\t<tr><td>0</td><td>8</td></tr>\n",
              "\t<tr><td>1</td><td>8</td></tr>\n",
              "\t<tr><td>2</td><td>8</td></tr>\n",
              "\t<tr><td>3</td><td>8</td></tr>\n",
              "\t<tr><td>4</td><td>8</td></tr>\n",
              "\t<tr><td>5</td><td>8</td></tr>\n",
              "\t<tr><td>6</td><td>8</td></tr>\n",
              "\t<tr><td>7</td><td>8</td></tr>\n",
              "\t<tr><td>8</td><td>8</td></tr>\n",
              "\t<tr><td>9</td><td>8</td></tr>\n",
              "\t<tr><td>0</td><td>9</td></tr>\n",
              "\t<tr><td>1</td><td>9</td></tr>\n",
              "\t<tr><td>2</td><td>9</td></tr>\n",
              "\t<tr><td>3</td><td>9</td></tr>\n",
              "\t<tr><td>4</td><td>9</td></tr>\n",
              "\t<tr><td>5</td><td>9</td></tr>\n",
              "\t<tr><td>6</td><td>9</td></tr>\n",
              "\t<tr><td>7</td><td>9</td></tr>\n",
              "\t<tr><td>8</td><td>9</td></tr>\n",
              "\t<tr><td>9</td><td>9</td></tr>\n",
              "</tbody>\n",
              "</table>\n"
            ]
          },
          "metadata": {}
        }
      ]
    },
    {
      "cell_type": "code",
      "metadata": {
        "colab": {
          "base_uri": "https://localhost:8080/",
          "height": 1000
        },
        "id": "3yqrXK03ponY",
        "outputId": "cb29497c-5500-401f-f993-b6f3c31c2024"
      },
      "source": [
        "replicate(4, c(0:9), simplify = FALSE) %>%\n",
        "expand.grid"
      ],
      "id": "3yqrXK03ponY",
      "execution_count": 9,
      "outputs": [
        {
          "output_type": "display_data",
          "data": {
            "text/plain": [
              "      Var1 Var2 Var3 Var4\n",
              "1     0    0    0    0   \n",
              "2     1    0    0    0   \n",
              "3     2    0    0    0   \n",
              "4     3    0    0    0   \n",
              "5     4    0    0    0   \n",
              "6     5    0    0    0   \n",
              "7     6    0    0    0   \n",
              "8     7    0    0    0   \n",
              "9     8    0    0    0   \n",
              "10    9    0    0    0   \n",
              "11    0    1    0    0   \n",
              "12    1    1    0    0   \n",
              "13    2    1    0    0   \n",
              "14    3    1    0    0   \n",
              "15    4    1    0    0   \n",
              "16    5    1    0    0   \n",
              "17    6    1    0    0   \n",
              "18    7    1    0    0   \n",
              "19    8    1    0    0   \n",
              "20    9    1    0    0   \n",
              "21    0    2    0    0   \n",
              "22    1    2    0    0   \n",
              "23    2    2    0    0   \n",
              "24    3    2    0    0   \n",
              "25    4    2    0    0   \n",
              "26    5    2    0    0   \n",
              "27    6    2    0    0   \n",
              "28    7    2    0    0   \n",
              "29    8    2    0    0   \n",
              "30    9    2    0    0   \n",
              "⋮     ⋮    ⋮    ⋮    ⋮   \n",
              "9971  0    7    9    9   \n",
              "9972  1    7    9    9   \n",
              "9973  2    7    9    9   \n",
              "9974  3    7    9    9   \n",
              "9975  4    7    9    9   \n",
              "9976  5    7    9    9   \n",
              "9977  6    7    9    9   \n",
              "9978  7    7    9    9   \n",
              "9979  8    7    9    9   \n",
              "9980  9    7    9    9   \n",
              "9981  0    8    9    9   \n",
              "9982  1    8    9    9   \n",
              "9983  2    8    9    9   \n",
              "9984  3    8    9    9   \n",
              "9985  4    8    9    9   \n",
              "9986  5    8    9    9   \n",
              "9987  6    8    9    9   \n",
              "9988  7    8    9    9   \n",
              "9989  8    8    9    9   \n",
              "9990  9    8    9    9   \n",
              "9991  0    9    9    9   \n",
              "9992  1    9    9    9   \n",
              "9993  2    9    9    9   \n",
              "9994  3    9    9    9   \n",
              "9995  4    9    9    9   \n",
              "9996  5    9    9    9   \n",
              "9997  6    9    9    9   \n",
              "9998  7    9    9    9   \n",
              "9999  8    9    9    9   \n",
              "10000 9    9    9    9   "
            ],
            "text/latex": "A data.frame: 10000 × 4\n\\begin{tabular}{llll}\n Var1 & Var2 & Var3 & Var4\\\\\n <int> & <int> & <int> & <int>\\\\\n\\hline\n\t 0 & 0 & 0 & 0\\\\\n\t 1 & 0 & 0 & 0\\\\\n\t 2 & 0 & 0 & 0\\\\\n\t 3 & 0 & 0 & 0\\\\\n\t 4 & 0 & 0 & 0\\\\\n\t 5 & 0 & 0 & 0\\\\\n\t 6 & 0 & 0 & 0\\\\\n\t 7 & 0 & 0 & 0\\\\\n\t 8 & 0 & 0 & 0\\\\\n\t 9 & 0 & 0 & 0\\\\\n\t 0 & 1 & 0 & 0\\\\\n\t 1 & 1 & 0 & 0\\\\\n\t 2 & 1 & 0 & 0\\\\\n\t 3 & 1 & 0 & 0\\\\\n\t 4 & 1 & 0 & 0\\\\\n\t 5 & 1 & 0 & 0\\\\\n\t 6 & 1 & 0 & 0\\\\\n\t 7 & 1 & 0 & 0\\\\\n\t 8 & 1 & 0 & 0\\\\\n\t 9 & 1 & 0 & 0\\\\\n\t 0 & 2 & 0 & 0\\\\\n\t 1 & 2 & 0 & 0\\\\\n\t 2 & 2 & 0 & 0\\\\\n\t 3 & 2 & 0 & 0\\\\\n\t 4 & 2 & 0 & 0\\\\\n\t 5 & 2 & 0 & 0\\\\\n\t 6 & 2 & 0 & 0\\\\\n\t 7 & 2 & 0 & 0\\\\\n\t 8 & 2 & 0 & 0\\\\\n\t 9 & 2 & 0 & 0\\\\\n\t ⋮ & ⋮ & ⋮ & ⋮\\\\\n\t 0 & 7 & 9 & 9\\\\\n\t 1 & 7 & 9 & 9\\\\\n\t 2 & 7 & 9 & 9\\\\\n\t 3 & 7 & 9 & 9\\\\\n\t 4 & 7 & 9 & 9\\\\\n\t 5 & 7 & 9 & 9\\\\\n\t 6 & 7 & 9 & 9\\\\\n\t 7 & 7 & 9 & 9\\\\\n\t 8 & 7 & 9 & 9\\\\\n\t 9 & 7 & 9 & 9\\\\\n\t 0 & 8 & 9 & 9\\\\\n\t 1 & 8 & 9 & 9\\\\\n\t 2 & 8 & 9 & 9\\\\\n\t 3 & 8 & 9 & 9\\\\\n\t 4 & 8 & 9 & 9\\\\\n\t 5 & 8 & 9 & 9\\\\\n\t 6 & 8 & 9 & 9\\\\\n\t 7 & 8 & 9 & 9\\\\\n\t 8 & 8 & 9 & 9\\\\\n\t 9 & 8 & 9 & 9\\\\\n\t 0 & 9 & 9 & 9\\\\\n\t 1 & 9 & 9 & 9\\\\\n\t 2 & 9 & 9 & 9\\\\\n\t 3 & 9 & 9 & 9\\\\\n\t 4 & 9 & 9 & 9\\\\\n\t 5 & 9 & 9 & 9\\\\\n\t 6 & 9 & 9 & 9\\\\\n\t 7 & 9 & 9 & 9\\\\\n\t 8 & 9 & 9 & 9\\\\\n\t 9 & 9 & 9 & 9\\\\\n\\end{tabular}\n",
            "text/markdown": "\nA data.frame: 10000 × 4\n\n| Var1 &lt;int&gt; | Var2 &lt;int&gt; | Var3 &lt;int&gt; | Var4 &lt;int&gt; |\n|---|---|---|---|\n| 0 | 0 | 0 | 0 |\n| 1 | 0 | 0 | 0 |\n| 2 | 0 | 0 | 0 |\n| 3 | 0 | 0 | 0 |\n| 4 | 0 | 0 | 0 |\n| 5 | 0 | 0 | 0 |\n| 6 | 0 | 0 | 0 |\n| 7 | 0 | 0 | 0 |\n| 8 | 0 | 0 | 0 |\n| 9 | 0 | 0 | 0 |\n| 0 | 1 | 0 | 0 |\n| 1 | 1 | 0 | 0 |\n| 2 | 1 | 0 | 0 |\n| 3 | 1 | 0 | 0 |\n| 4 | 1 | 0 | 0 |\n| 5 | 1 | 0 | 0 |\n| 6 | 1 | 0 | 0 |\n| 7 | 1 | 0 | 0 |\n| 8 | 1 | 0 | 0 |\n| 9 | 1 | 0 | 0 |\n| 0 | 2 | 0 | 0 |\n| 1 | 2 | 0 | 0 |\n| 2 | 2 | 0 | 0 |\n| 3 | 2 | 0 | 0 |\n| 4 | 2 | 0 | 0 |\n| 5 | 2 | 0 | 0 |\n| 6 | 2 | 0 | 0 |\n| 7 | 2 | 0 | 0 |\n| 8 | 2 | 0 | 0 |\n| 9 | 2 | 0 | 0 |\n| ⋮ | ⋮ | ⋮ | ⋮ |\n| 0 | 7 | 9 | 9 |\n| 1 | 7 | 9 | 9 |\n| 2 | 7 | 9 | 9 |\n| 3 | 7 | 9 | 9 |\n| 4 | 7 | 9 | 9 |\n| 5 | 7 | 9 | 9 |\n| 6 | 7 | 9 | 9 |\n| 7 | 7 | 9 | 9 |\n| 8 | 7 | 9 | 9 |\n| 9 | 7 | 9 | 9 |\n| 0 | 8 | 9 | 9 |\n| 1 | 8 | 9 | 9 |\n| 2 | 8 | 9 | 9 |\n| 3 | 8 | 9 | 9 |\n| 4 | 8 | 9 | 9 |\n| 5 | 8 | 9 | 9 |\n| 6 | 8 | 9 | 9 |\n| 7 | 8 | 9 | 9 |\n| 8 | 8 | 9 | 9 |\n| 9 | 8 | 9 | 9 |\n| 0 | 9 | 9 | 9 |\n| 1 | 9 | 9 | 9 |\n| 2 | 9 | 9 | 9 |\n| 3 | 9 | 9 | 9 |\n| 4 | 9 | 9 | 9 |\n| 5 | 9 | 9 | 9 |\n| 6 | 9 | 9 | 9 |\n| 7 | 9 | 9 | 9 |\n| 8 | 9 | 9 | 9 |\n| 9 | 9 | 9 | 9 |\n\n",
            "text/html": [
              "<table class=\"dataframe\">\n",
              "<caption>A data.frame: 10000 × 4</caption>\n",
              "<thead>\n",
              "\t<tr><th scope=col>Var1</th><th scope=col>Var2</th><th scope=col>Var3</th><th scope=col>Var4</th></tr>\n",
              "\t<tr><th scope=col>&lt;int&gt;</th><th scope=col>&lt;int&gt;</th><th scope=col>&lt;int&gt;</th><th scope=col>&lt;int&gt;</th></tr>\n",
              "</thead>\n",
              "<tbody>\n",
              "\t<tr><td>0</td><td>0</td><td>0</td><td>0</td></tr>\n",
              "\t<tr><td>1</td><td>0</td><td>0</td><td>0</td></tr>\n",
              "\t<tr><td>2</td><td>0</td><td>0</td><td>0</td></tr>\n",
              "\t<tr><td>3</td><td>0</td><td>0</td><td>0</td></tr>\n",
              "\t<tr><td>4</td><td>0</td><td>0</td><td>0</td></tr>\n",
              "\t<tr><td>5</td><td>0</td><td>0</td><td>0</td></tr>\n",
              "\t<tr><td>6</td><td>0</td><td>0</td><td>0</td></tr>\n",
              "\t<tr><td>7</td><td>0</td><td>0</td><td>0</td></tr>\n",
              "\t<tr><td>8</td><td>0</td><td>0</td><td>0</td></tr>\n",
              "\t<tr><td>9</td><td>0</td><td>0</td><td>0</td></tr>\n",
              "\t<tr><td>0</td><td>1</td><td>0</td><td>0</td></tr>\n",
              "\t<tr><td>1</td><td>1</td><td>0</td><td>0</td></tr>\n",
              "\t<tr><td>2</td><td>1</td><td>0</td><td>0</td></tr>\n",
              "\t<tr><td>3</td><td>1</td><td>0</td><td>0</td></tr>\n",
              "\t<tr><td>4</td><td>1</td><td>0</td><td>0</td></tr>\n",
              "\t<tr><td>5</td><td>1</td><td>0</td><td>0</td></tr>\n",
              "\t<tr><td>6</td><td>1</td><td>0</td><td>0</td></tr>\n",
              "\t<tr><td>7</td><td>1</td><td>0</td><td>0</td></tr>\n",
              "\t<tr><td>8</td><td>1</td><td>0</td><td>0</td></tr>\n",
              "\t<tr><td>9</td><td>1</td><td>0</td><td>0</td></tr>\n",
              "\t<tr><td>0</td><td>2</td><td>0</td><td>0</td></tr>\n",
              "\t<tr><td>1</td><td>2</td><td>0</td><td>0</td></tr>\n",
              "\t<tr><td>2</td><td>2</td><td>0</td><td>0</td></tr>\n",
              "\t<tr><td>3</td><td>2</td><td>0</td><td>0</td></tr>\n",
              "\t<tr><td>4</td><td>2</td><td>0</td><td>0</td></tr>\n",
              "\t<tr><td>5</td><td>2</td><td>0</td><td>0</td></tr>\n",
              "\t<tr><td>6</td><td>2</td><td>0</td><td>0</td></tr>\n",
              "\t<tr><td>7</td><td>2</td><td>0</td><td>0</td></tr>\n",
              "\t<tr><td>8</td><td>2</td><td>0</td><td>0</td></tr>\n",
              "\t<tr><td>9</td><td>2</td><td>0</td><td>0</td></tr>\n",
              "\t<tr><td>⋮</td><td>⋮</td><td>⋮</td><td>⋮</td></tr>\n",
              "\t<tr><td>0</td><td>7</td><td>9</td><td>9</td></tr>\n",
              "\t<tr><td>1</td><td>7</td><td>9</td><td>9</td></tr>\n",
              "\t<tr><td>2</td><td>7</td><td>9</td><td>9</td></tr>\n",
              "\t<tr><td>3</td><td>7</td><td>9</td><td>9</td></tr>\n",
              "\t<tr><td>4</td><td>7</td><td>9</td><td>9</td></tr>\n",
              "\t<tr><td>5</td><td>7</td><td>9</td><td>9</td></tr>\n",
              "\t<tr><td>6</td><td>7</td><td>9</td><td>9</td></tr>\n",
              "\t<tr><td>7</td><td>7</td><td>9</td><td>9</td></tr>\n",
              "\t<tr><td>8</td><td>7</td><td>9</td><td>9</td></tr>\n",
              "\t<tr><td>9</td><td>7</td><td>9</td><td>9</td></tr>\n",
              "\t<tr><td>0</td><td>8</td><td>9</td><td>9</td></tr>\n",
              "\t<tr><td>1</td><td>8</td><td>9</td><td>9</td></tr>\n",
              "\t<tr><td>2</td><td>8</td><td>9</td><td>9</td></tr>\n",
              "\t<tr><td>3</td><td>8</td><td>9</td><td>9</td></tr>\n",
              "\t<tr><td>4</td><td>8</td><td>9</td><td>9</td></tr>\n",
              "\t<tr><td>5</td><td>8</td><td>9</td><td>9</td></tr>\n",
              "\t<tr><td>6</td><td>8</td><td>9</td><td>9</td></tr>\n",
              "\t<tr><td>7</td><td>8</td><td>9</td><td>9</td></tr>\n",
              "\t<tr><td>8</td><td>8</td><td>9</td><td>9</td></tr>\n",
              "\t<tr><td>9</td><td>8</td><td>9</td><td>9</td></tr>\n",
              "\t<tr><td>0</td><td>9</td><td>9</td><td>9</td></tr>\n",
              "\t<tr><td>1</td><td>9</td><td>9</td><td>9</td></tr>\n",
              "\t<tr><td>2</td><td>9</td><td>9</td><td>9</td></tr>\n",
              "\t<tr><td>3</td><td>9</td><td>9</td><td>9</td></tr>\n",
              "\t<tr><td>4</td><td>9</td><td>9</td><td>9</td></tr>\n",
              "\t<tr><td>5</td><td>9</td><td>9</td><td>9</td></tr>\n",
              "\t<tr><td>6</td><td>9</td><td>9</td><td>9</td></tr>\n",
              "\t<tr><td>7</td><td>9</td><td>9</td><td>9</td></tr>\n",
              "\t<tr><td>8</td><td>9</td><td>9</td><td>9</td></tr>\n",
              "\t<tr><td>9</td><td>9</td><td>9</td><td>9</td></tr>\n",
              "</tbody>\n",
              "</table>\n"
            ]
          },
          "metadata": {}
        }
      ]
    },
    {
      "cell_type": "markdown",
      "metadata": {
        "id": "d826dbff"
      },
      "source": [
        "Q3.\n",
        "\n",
        "* Given a fish disease that occurs with a probability of p= 0.43\n",
        "* You sampled 340 animals\n",
        "* How many of these animals should you expect to see the disease in?\n",
        "* Hint: you will need to compute the probability of each element of the sample space and find the value that has the highest probability"
      ],
      "id": "d826dbff"
    },
    {
      "cell_type": "code",
      "metadata": {
        "colab": {
          "base_uri": "https://localhost:8080/",
          "height": 357
        },
        "id": "XqovnzGnAbqT",
        "outputId": "e272d5c8-0b03-452d-ccc3-7a584d621b75"
      },
      "source": [
        "sample(c(\"True\", \"False\"), size = 340, replace = TRUE, prob = c(0.43, 0.57))\n"
      ],
      "id": "XqovnzGnAbqT",
      "execution_count": 12,
      "outputs": [
        {
          "output_type": "display_data",
          "data": {
            "text/plain": [
              "  [1] \"False\" \"False\" \"False\" \"True\"  \"False\" \"True\"  \"False\" \"True\"  \"False\"\n",
              " [10] \"True\"  \"True\"  \"True\"  \"False\" \"False\" \"True\"  \"False\" \"False\" \"False\"\n",
              " [19] \"False\" \"False\" \"False\" \"False\" \"False\" \"True\"  \"False\" \"True\"  \"False\"\n",
              " [28] \"False\" \"True\"  \"False\" \"True\"  \"False\" \"False\" \"True\"  \"False\" \"True\" \n",
              " [37] \"True\"  \"False\" \"True\"  \"True\"  \"True\"  \"False\" \"True\"  \"True\"  \"True\" \n",
              " [46] \"True\"  \"False\" \"True\"  \"False\" \"True\"  \"False\" \"True\"  \"False\" \"False\"\n",
              " [55] \"False\" \"False\" \"False\" \"False\" \"False\" \"False\" \"False\" \"False\" \"False\"\n",
              " [64] \"False\" \"True\"  \"False\" \"True\"  \"True\"  \"False\" \"True\"  \"False\" \"False\"\n",
              " [73] \"True\"  \"False\" \"False\" \"True\"  \"False\" \"False\" \"False\" \"True\"  \"True\" \n",
              " [82] \"False\" \"False\" \"False\" \"True\"  \"False\" \"True\"  \"False\" \"False\" \"False\"\n",
              " [91] \"True\"  \"False\" \"True\"  \"True\"  \"True\"  \"False\" \"True\"  \"False\" \"True\" \n",
              "[100] \"False\" \"False\" \"False\" \"False\" \"True\"  \"True\"  \"True\"  \"True\"  \"False\"\n",
              "[109] \"True\"  \"False\" \"True\"  \"False\" \"True\"  \"False\" \"False\" \"True\"  \"True\" \n",
              "[118] \"False\" \"True\"  \"False\" \"False\" \"True\"  \"False\" \"False\" \"True\"  \"False\"\n",
              "[127] \"True\"  \"True\"  \"True\"  \"True\"  \"False\" \"True\"  \"False\" \"False\" \"False\"\n",
              "[136] \"False\" \"False\" \"False\" \"False\" \"False\" \"True\"  \"False\" \"True\"  \"False\"\n",
              "[145] \"False\" \"False\" \"True\"  \"True\"  \"False\" \"False\" \"True\"  \"False\" \"True\" \n",
              "[154] \"False\" \"False\" \"False\" \"False\" \"False\" \"True\"  \"True\"  \"True\"  \"True\" \n",
              "[163] \"True\"  \"False\" \"False\" \"True\"  \"False\" \"True\"  \"False\" \"True\"  \"False\"\n",
              "[172] \"True\"  \"True\"  \"False\" \"False\" \"False\" \"False\" \"True\"  \"False\" \"False\"\n",
              "[181] \"False\" \"False\" \"True\"  \"False\" \"False\" \"True\"  \"True\"  \"False\" \"False\"\n",
              "[190] \"False\" \"True\"  \"False\" \"False\" \"True\"  \"True\"  \"False\" \"False\" \"True\" \n",
              "[199] \"True\"  \"True\"  \"True\"  \"True\"  \"False\" \"False\" \"False\" \"False\" \"False\"\n",
              "[208] \"True\"  \"True\"  \"False\" \"False\" \"False\" \"True\"  \"True\"  \"False\" \"False\"\n",
              "[217] \"True\"  \"True\"  \"True\"  \"False\" \"True\"  \"False\" \"True\"  \"True\"  \"False\"\n",
              "[226] \"True\"  \"False\" \"True\"  \"False\" \"False\" \"False\" \"True\"  \"False\" \"False\"\n",
              "[235] \"False\" \"True\"  \"False\" \"False\" \"False\" \"False\" \"True\"  \"True\"  \"True\" \n",
              "[244] \"False\" \"True\"  \"True\"  \"True\"  \"False\" \"True\"  \"False\" \"False\" \"True\" \n",
              "[253] \"False\" \"True\"  \"False\" \"False\" \"False\" \"False\" \"True\"  \"False\" \"False\"\n",
              "[262] \"False\" \"False\" \"False\" \"False\" \"False\" \"True\"  \"False\" \"False\" \"False\"\n",
              "[271] \"False\" \"False\" \"True\"  \"False\" \"False\" \"True\"  \"False\" \"True\"  \"False\"\n",
              "[280] \"True\"  \"False\" \"False\" \"True\"  \"False\" \"True\"  \"True\"  \"False\" \"True\" \n",
              "[289] \"False\" \"False\" \"True\"  \"False\" \"False\" \"True\"  \"True\"  \"True\"  \"False\"\n",
              "[298] \"False\" \"False\" \"False\" \"False\" \"False\" \"False\" \"True\"  \"True\"  \"True\" \n",
              "[307] \"True\"  \"False\" \"False\" \"True\"  \"False\" \"False\" \"False\" \"False\" \"True\" \n",
              "[316] \"False\" \"False\" \"False\" \"False\" \"True\"  \"False\" \"True\"  \"True\"  \"False\"\n",
              "[325] \"False\" \"False\" \"False\" \"False\" \"True\"  \"False\" \"False\" \"True\"  \"False\"\n",
              "[334] \"False\" \"False\" \"False\" \"False\" \"True\"  \"False\" \"False\""
            ],
            "text/latex": "\\begin{enumerate*}\n\\item 'False'\n\\item 'False'\n\\item 'False'\n\\item 'True'\n\\item 'False'\n\\item 'True'\n\\item 'False'\n\\item 'True'\n\\item 'False'\n\\item 'True'\n\\item 'True'\n\\item 'True'\n\\item 'False'\n\\item 'False'\n\\item 'True'\n\\item 'False'\n\\item 'False'\n\\item 'False'\n\\item 'False'\n\\item 'False'\n\\item 'False'\n\\item 'False'\n\\item 'False'\n\\item 'True'\n\\item 'False'\n\\item 'True'\n\\item 'False'\n\\item 'False'\n\\item 'True'\n\\item 'False'\n\\item 'True'\n\\item 'False'\n\\item 'False'\n\\item 'True'\n\\item 'False'\n\\item 'True'\n\\item 'True'\n\\item 'False'\n\\item 'True'\n\\item 'True'\n\\item 'True'\n\\item 'False'\n\\item 'True'\n\\item 'True'\n\\item 'True'\n\\item 'True'\n\\item 'False'\n\\item 'True'\n\\item 'False'\n\\item 'True'\n\\item 'False'\n\\item 'True'\n\\item 'False'\n\\item 'False'\n\\item 'False'\n\\item 'False'\n\\item 'False'\n\\item 'False'\n\\item 'False'\n\\item 'False'\n\\item 'False'\n\\item 'False'\n\\item 'False'\n\\item 'False'\n\\item 'True'\n\\item 'False'\n\\item 'True'\n\\item 'True'\n\\item 'False'\n\\item 'True'\n\\item 'False'\n\\item 'False'\n\\item 'True'\n\\item 'False'\n\\item 'False'\n\\item 'True'\n\\item 'False'\n\\item 'False'\n\\item 'False'\n\\item 'True'\n\\item 'True'\n\\item 'False'\n\\item 'False'\n\\item 'False'\n\\item 'True'\n\\item 'False'\n\\item 'True'\n\\item 'False'\n\\item 'False'\n\\item 'False'\n\\item 'True'\n\\item 'False'\n\\item 'True'\n\\item 'True'\n\\item 'True'\n\\item 'False'\n\\item 'True'\n\\item 'False'\n\\item 'True'\n\\item 'False'\n\\item 'False'\n\\item 'False'\n\\item 'False'\n\\item 'True'\n\\item 'True'\n\\item 'True'\n\\item 'True'\n\\item 'False'\n\\item 'True'\n\\item 'False'\n\\item 'True'\n\\item 'False'\n\\item 'True'\n\\item 'False'\n\\item 'False'\n\\item 'True'\n\\item 'True'\n\\item 'False'\n\\item 'True'\n\\item 'False'\n\\item 'False'\n\\item 'True'\n\\item 'False'\n\\item 'False'\n\\item 'True'\n\\item 'False'\n\\item 'True'\n\\item 'True'\n\\item 'True'\n\\item 'True'\n\\item 'False'\n\\item 'True'\n\\item 'False'\n\\item 'False'\n\\item 'False'\n\\item 'False'\n\\item 'False'\n\\item 'False'\n\\item 'False'\n\\item 'False'\n\\item 'True'\n\\item 'False'\n\\item 'True'\n\\item 'False'\n\\item 'False'\n\\item 'False'\n\\item 'True'\n\\item 'True'\n\\item 'False'\n\\item 'False'\n\\item 'True'\n\\item 'False'\n\\item 'True'\n\\item 'False'\n\\item 'False'\n\\item 'False'\n\\item 'False'\n\\item 'False'\n\\item 'True'\n\\item 'True'\n\\item 'True'\n\\item 'True'\n\\item 'True'\n\\item 'False'\n\\item 'False'\n\\item 'True'\n\\item 'False'\n\\item 'True'\n\\item 'False'\n\\item 'True'\n\\item 'False'\n\\item 'True'\n\\item 'True'\n\\item 'False'\n\\item 'False'\n\\item 'False'\n\\item 'False'\n\\item 'True'\n\\item 'False'\n\\item 'False'\n\\item 'False'\n\\item 'False'\n\\item 'True'\n\\item 'False'\n\\item 'False'\n\\item 'True'\n\\item 'True'\n\\item 'False'\n\\item 'False'\n\\item 'False'\n\\item 'True'\n\\item 'False'\n\\item 'False'\n\\item 'True'\n\\item 'True'\n\\item 'False'\n\\item 'False'\n\\item 'True'\n\\item 'True'\n\\item 'True'\n\\item 'True'\n\\item 'True'\n\\item 'False'\n\\item 'False'\n\\item 'False'\n\\item 'False'\n\\item 'False'\n\\item 'True'\n\\item 'True'\n\\item 'False'\n\\item 'False'\n\\item 'False'\n\\item 'True'\n\\item 'True'\n\\item 'False'\n\\item 'False'\n\\item 'True'\n\\item 'True'\n\\item 'True'\n\\item 'False'\n\\item 'True'\n\\item 'False'\n\\item 'True'\n\\item 'True'\n\\item 'False'\n\\item 'True'\n\\item 'False'\n\\item 'True'\n\\item 'False'\n\\item 'False'\n\\item 'False'\n\\item 'True'\n\\item 'False'\n\\item 'False'\n\\item 'False'\n\\item 'True'\n\\item 'False'\n\\item 'False'\n\\item 'False'\n\\item 'False'\n\\item 'True'\n\\item 'True'\n\\item 'True'\n\\item 'False'\n\\item 'True'\n\\item 'True'\n\\item 'True'\n\\item 'False'\n\\item 'True'\n\\item 'False'\n\\item 'False'\n\\item 'True'\n\\item 'False'\n\\item 'True'\n\\item 'False'\n\\item 'False'\n\\item 'False'\n\\item 'False'\n\\item 'True'\n\\item 'False'\n\\item 'False'\n\\item 'False'\n\\item 'False'\n\\item 'False'\n\\item 'False'\n\\item 'False'\n\\item 'True'\n\\item 'False'\n\\item 'False'\n\\item 'False'\n\\item 'False'\n\\item 'False'\n\\item 'True'\n\\item 'False'\n\\item 'False'\n\\item 'True'\n\\item 'False'\n\\item 'True'\n\\item 'False'\n\\item 'True'\n\\item 'False'\n\\item 'False'\n\\item 'True'\n\\item 'False'\n\\item 'True'\n\\item 'True'\n\\item 'False'\n\\item 'True'\n\\item 'False'\n\\item 'False'\n\\item 'True'\n\\item 'False'\n\\item 'False'\n\\item 'True'\n\\item 'True'\n\\item 'True'\n\\item 'False'\n\\item 'False'\n\\item 'False'\n\\item 'False'\n\\item 'False'\n\\item 'False'\n\\item 'False'\n\\item 'True'\n\\item 'True'\n\\item 'True'\n\\item 'True'\n\\item 'False'\n\\item 'False'\n\\item 'True'\n\\item 'False'\n\\item 'False'\n\\item 'False'\n\\item 'False'\n\\item 'True'\n\\item 'False'\n\\item 'False'\n\\item 'False'\n\\item 'False'\n\\item 'True'\n\\item 'False'\n\\item 'True'\n\\item 'True'\n\\item 'False'\n\\item 'False'\n\\item 'False'\n\\item 'False'\n\\item 'False'\n\\item 'True'\n\\item 'False'\n\\item 'False'\n\\item 'True'\n\\item 'False'\n\\item 'False'\n\\item 'False'\n\\item 'False'\n\\item 'False'\n\\item 'True'\n\\item 'False'\n\\item 'False'\n\\end{enumerate*}\n",
            "text/markdown": "1. 'False'\n2. 'False'\n3. 'False'\n4. 'True'\n5. 'False'\n6. 'True'\n7. 'False'\n8. 'True'\n9. 'False'\n10. 'True'\n11. 'True'\n12. 'True'\n13. 'False'\n14. 'False'\n15. 'True'\n16. 'False'\n17. 'False'\n18. 'False'\n19. 'False'\n20. 'False'\n21. 'False'\n22. 'False'\n23. 'False'\n24. 'True'\n25. 'False'\n26. 'True'\n27. 'False'\n28. 'False'\n29. 'True'\n30. 'False'\n31. 'True'\n32. 'False'\n33. 'False'\n34. 'True'\n35. 'False'\n36. 'True'\n37. 'True'\n38. 'False'\n39. 'True'\n40. 'True'\n41. 'True'\n42. 'False'\n43. 'True'\n44. 'True'\n45. 'True'\n46. 'True'\n47. 'False'\n48. 'True'\n49. 'False'\n50. 'True'\n51. 'False'\n52. 'True'\n53. 'False'\n54. 'False'\n55. 'False'\n56. 'False'\n57. 'False'\n58. 'False'\n59. 'False'\n60. 'False'\n61. 'False'\n62. 'False'\n63. 'False'\n64. 'False'\n65. 'True'\n66. 'False'\n67. 'True'\n68. 'True'\n69. 'False'\n70. 'True'\n71. 'False'\n72. 'False'\n73. 'True'\n74. 'False'\n75. 'False'\n76. 'True'\n77. 'False'\n78. 'False'\n79. 'False'\n80. 'True'\n81. 'True'\n82. 'False'\n83. 'False'\n84. 'False'\n85. 'True'\n86. 'False'\n87. 'True'\n88. 'False'\n89. 'False'\n90. 'False'\n91. 'True'\n92. 'False'\n93. 'True'\n94. 'True'\n95. 'True'\n96. 'False'\n97. 'True'\n98. 'False'\n99. 'True'\n100. 'False'\n101. 'False'\n102. 'False'\n103. 'False'\n104. 'True'\n105. 'True'\n106. 'True'\n107. 'True'\n108. 'False'\n109. 'True'\n110. 'False'\n111. 'True'\n112. 'False'\n113. 'True'\n114. 'False'\n115. 'False'\n116. 'True'\n117. 'True'\n118. 'False'\n119. 'True'\n120. 'False'\n121. 'False'\n122. 'True'\n123. 'False'\n124. 'False'\n125. 'True'\n126. 'False'\n127. 'True'\n128. 'True'\n129. 'True'\n130. 'True'\n131. 'False'\n132. 'True'\n133. 'False'\n134. 'False'\n135. 'False'\n136. 'False'\n137. 'False'\n138. 'False'\n139. 'False'\n140. 'False'\n141. 'True'\n142. 'False'\n143. 'True'\n144. 'False'\n145. 'False'\n146. 'False'\n147. 'True'\n148. 'True'\n149. 'False'\n150. 'False'\n151. 'True'\n152. 'False'\n153. 'True'\n154. 'False'\n155. 'False'\n156. 'False'\n157. 'False'\n158. 'False'\n159. 'True'\n160. 'True'\n161. 'True'\n162. 'True'\n163. 'True'\n164. 'False'\n165. 'False'\n166. 'True'\n167. 'False'\n168. 'True'\n169. 'False'\n170. 'True'\n171. 'False'\n172. 'True'\n173. 'True'\n174. 'False'\n175. 'False'\n176. 'False'\n177. 'False'\n178. 'True'\n179. 'False'\n180. 'False'\n181. 'False'\n182. 'False'\n183. 'True'\n184. 'False'\n185. 'False'\n186. 'True'\n187. 'True'\n188. 'False'\n189. 'False'\n190. 'False'\n191. 'True'\n192. 'False'\n193. 'False'\n194. 'True'\n195. 'True'\n196. 'False'\n197. 'False'\n198. 'True'\n199. 'True'\n200. 'True'\n201. 'True'\n202. 'True'\n203. 'False'\n204. 'False'\n205. 'False'\n206. 'False'\n207. 'False'\n208. 'True'\n209. 'True'\n210. 'False'\n211. 'False'\n212. 'False'\n213. 'True'\n214. 'True'\n215. 'False'\n216. 'False'\n217. 'True'\n218. 'True'\n219. 'True'\n220. 'False'\n221. 'True'\n222. 'False'\n223. 'True'\n224. 'True'\n225. 'False'\n226. 'True'\n227. 'False'\n228. 'True'\n229. 'False'\n230. 'False'\n231. 'False'\n232. 'True'\n233. 'False'\n234. 'False'\n235. 'False'\n236. 'True'\n237. 'False'\n238. 'False'\n239. 'False'\n240. 'False'\n241. 'True'\n242. 'True'\n243. 'True'\n244. 'False'\n245. 'True'\n246. 'True'\n247. 'True'\n248. 'False'\n249. 'True'\n250. 'False'\n251. 'False'\n252. 'True'\n253. 'False'\n254. 'True'\n255. 'False'\n256. 'False'\n257. 'False'\n258. 'False'\n259. 'True'\n260. 'False'\n261. 'False'\n262. 'False'\n263. 'False'\n264. 'False'\n265. 'False'\n266. 'False'\n267. 'True'\n268. 'False'\n269. 'False'\n270. 'False'\n271. 'False'\n272. 'False'\n273. 'True'\n274. 'False'\n275. 'False'\n276. 'True'\n277. 'False'\n278. 'True'\n279. 'False'\n280. 'True'\n281. 'False'\n282. 'False'\n283. 'True'\n284. 'False'\n285. 'True'\n286. 'True'\n287. 'False'\n288. 'True'\n289. 'False'\n290. 'False'\n291. 'True'\n292. 'False'\n293. 'False'\n294. 'True'\n295. 'True'\n296. 'True'\n297. 'False'\n298. 'False'\n299. 'False'\n300. 'False'\n301. 'False'\n302. 'False'\n303. 'False'\n304. 'True'\n305. 'True'\n306. 'True'\n307. 'True'\n308. 'False'\n309. 'False'\n310. 'True'\n311. 'False'\n312. 'False'\n313. 'False'\n314. 'False'\n315. 'True'\n316. 'False'\n317. 'False'\n318. 'False'\n319. 'False'\n320. 'True'\n321. 'False'\n322. 'True'\n323. 'True'\n324. 'False'\n325. 'False'\n326. 'False'\n327. 'False'\n328. 'False'\n329. 'True'\n330. 'False'\n331. 'False'\n332. 'True'\n333. 'False'\n334. 'False'\n335. 'False'\n336. 'False'\n337. 'False'\n338. 'True'\n339. 'False'\n340. 'False'\n\n\n",
            "text/html": [
              "<style>\n",
              ".list-inline {list-style: none; margin:0; padding: 0}\n",
              ".list-inline>li {display: inline-block}\n",
              ".list-inline>li:not(:last-child)::after {content: \"\\00b7\"; padding: 0 .5ex}\n",
              "</style>\n",
              "<ol class=list-inline><li>'False'</li><li>'False'</li><li>'False'</li><li>'True'</li><li>'False'</li><li>'True'</li><li>'False'</li><li>'True'</li><li>'False'</li><li>'True'</li><li>'True'</li><li>'True'</li><li>'False'</li><li>'False'</li><li>'True'</li><li>'False'</li><li>'False'</li><li>'False'</li><li>'False'</li><li>'False'</li><li>'False'</li><li>'False'</li><li>'False'</li><li>'True'</li><li>'False'</li><li>'True'</li><li>'False'</li><li>'False'</li><li>'True'</li><li>'False'</li><li>'True'</li><li>'False'</li><li>'False'</li><li>'True'</li><li>'False'</li><li>'True'</li><li>'True'</li><li>'False'</li><li>'True'</li><li>'True'</li><li>'True'</li><li>'False'</li><li>'True'</li><li>'True'</li><li>'True'</li><li>'True'</li><li>'False'</li><li>'True'</li><li>'False'</li><li>'True'</li><li>'False'</li><li>'True'</li><li>'False'</li><li>'False'</li><li>'False'</li><li>'False'</li><li>'False'</li><li>'False'</li><li>'False'</li><li>'False'</li><li>'False'</li><li>'False'</li><li>'False'</li><li>'False'</li><li>'True'</li><li>'False'</li><li>'True'</li><li>'True'</li><li>'False'</li><li>'True'</li><li>'False'</li><li>'False'</li><li>'True'</li><li>'False'</li><li>'False'</li><li>'True'</li><li>'False'</li><li>'False'</li><li>'False'</li><li>'True'</li><li>'True'</li><li>'False'</li><li>'False'</li><li>'False'</li><li>'True'</li><li>'False'</li><li>'True'</li><li>'False'</li><li>'False'</li><li>'False'</li><li>'True'</li><li>'False'</li><li>'True'</li><li>'True'</li><li>'True'</li><li>'False'</li><li>'True'</li><li>'False'</li><li>'True'</li><li>'False'</li><li>'False'</li><li>'False'</li><li>'False'</li><li>'True'</li><li>'True'</li><li>'True'</li><li>'True'</li><li>'False'</li><li>'True'</li><li>'False'</li><li>'True'</li><li>'False'</li><li>'True'</li><li>'False'</li><li>'False'</li><li>'True'</li><li>'True'</li><li>'False'</li><li>'True'</li><li>'False'</li><li>'False'</li><li>'True'</li><li>'False'</li><li>'False'</li><li>'True'</li><li>'False'</li><li>'True'</li><li>'True'</li><li>'True'</li><li>'True'</li><li>'False'</li><li>'True'</li><li>'False'</li><li>'False'</li><li>'False'</li><li>'False'</li><li>'False'</li><li>'False'</li><li>'False'</li><li>'False'</li><li>'True'</li><li>'False'</li><li>'True'</li><li>'False'</li><li>'False'</li><li>'False'</li><li>'True'</li><li>'True'</li><li>'False'</li><li>'False'</li><li>'True'</li><li>'False'</li><li>'True'</li><li>'False'</li><li>'False'</li><li>'False'</li><li>'False'</li><li>'False'</li><li>'True'</li><li>'True'</li><li>'True'</li><li>'True'</li><li>'True'</li><li>'False'</li><li>'False'</li><li>'True'</li><li>'False'</li><li>'True'</li><li>'False'</li><li>'True'</li><li>'False'</li><li>'True'</li><li>'True'</li><li>'False'</li><li>'False'</li><li>'False'</li><li>'False'</li><li>'True'</li><li>'False'</li><li>'False'</li><li>'False'</li><li>'False'</li><li>'True'</li><li>'False'</li><li>'False'</li><li>'True'</li><li>'True'</li><li>'False'</li><li>'False'</li><li>'False'</li><li>'True'</li><li>'False'</li><li>'False'</li><li>'True'</li><li>'True'</li><li>'False'</li><li>'False'</li><li>'True'</li><li>'True'</li><li>'True'</li><li>'True'</li><li>'True'</li><li>'False'</li><li>'False'</li><li>'False'</li><li>'False'</li><li>'False'</li><li>'True'</li><li>'True'</li><li>'False'</li><li>'False'</li><li>'False'</li><li>'True'</li><li>'True'</li><li>'False'</li><li>'False'</li><li>'True'</li><li>'True'</li><li>'True'</li><li>'False'</li><li>'True'</li><li>'False'</li><li>'True'</li><li>'True'</li><li>'False'</li><li>'True'</li><li>'False'</li><li>'True'</li><li>'False'</li><li>'False'</li><li>'False'</li><li>'True'</li><li>'False'</li><li>'False'</li><li>'False'</li><li>'True'</li><li>'False'</li><li>'False'</li><li>'False'</li><li>'False'</li><li>'True'</li><li>'True'</li><li>'True'</li><li>'False'</li><li>'True'</li><li>'True'</li><li>'True'</li><li>'False'</li><li>'True'</li><li>'False'</li><li>'False'</li><li>'True'</li><li>'False'</li><li>'True'</li><li>'False'</li><li>'False'</li><li>'False'</li><li>'False'</li><li>'True'</li><li>'False'</li><li>'False'</li><li>'False'</li><li>'False'</li><li>'False'</li><li>'False'</li><li>'False'</li><li>'True'</li><li>'False'</li><li>'False'</li><li>'False'</li><li>'False'</li><li>'False'</li><li>'True'</li><li>'False'</li><li>'False'</li><li>'True'</li><li>'False'</li><li>'True'</li><li>'False'</li><li>'True'</li><li>'False'</li><li>'False'</li><li>'True'</li><li>'False'</li><li>'True'</li><li>'True'</li><li>'False'</li><li>'True'</li><li>'False'</li><li>'False'</li><li>'True'</li><li>'False'</li><li>'False'</li><li>'True'</li><li>'True'</li><li>'True'</li><li>'False'</li><li>'False'</li><li>'False'</li><li>'False'</li><li>'False'</li><li>'False'</li><li>'False'</li><li>'True'</li><li>'True'</li><li>'True'</li><li>'True'</li><li>'False'</li><li>'False'</li><li>'True'</li><li>'False'</li><li>'False'</li><li>'False'</li><li>'False'</li><li>'True'</li><li>'False'</li><li>'False'</li><li>'False'</li><li>'False'</li><li>'True'</li><li>'False'</li><li>'True'</li><li>'True'</li><li>'False'</li><li>'False'</li><li>'False'</li><li>'False'</li><li>'False'</li><li>'True'</li><li>'False'</li><li>'False'</li><li>'True'</li><li>'False'</li><li>'False'</li><li>'False'</li><li>'False'</li><li>'False'</li><li>'True'</li><li>'False'</li><li>'False'</li></ol>\n"
            ]
          },
          "metadata": {}
        }
      ]
    },
    {
      "cell_type": "code",
      "metadata": {
        "colab": {
          "base_uri": "https://localhost:8080/",
          "height": 1000
        },
        "id": "tL44dn3Arofs",
        "outputId": "e6adb2cf-6548-4fe6-d86f-a38fc0d48fce"
      },
      "source": [
        "#which.max\n",
        "fish_disease = dbinom(c(0:340), 340, 0.43)\n",
        "print(fish_disease)\n",
        "\n",
        "which.max(fish_disease)"
      ],
      "id": "tL44dn3Arofs",
      "execution_count": 14,
      "outputs": [
        {
          "output_type": "stream",
          "name": "stdout",
          "text": [
            "  [1]  9.941477e-84  2.549902e-81  3.260519e-79  2.771251e-77  1.761324e-75\n",
            "  [6]  8.928987e-74  3.760879e-72  1.353728e-70  4.250884e-69  1.182955e-67\n",
            " [11]  2.953860e-66  6.685053e-65  1.382653e-63  2.631705e-62  4.637143e-61\n",
            " [16]  7.602745e-60  1.165004e-58  1.675009e-57  2.267466e-56  2.898922e-55\n",
            " [21]  3.509985e-54  4.034870e-53  4.413581e-52  4.603456e-51  4.586967e-50\n",
            " [26]  4.373874e-49  3.997579e-48  3.507168e-47  2.957580e-46  2.400417e-45\n",
            " [31]  1.877238e-44  1.416162e-43  1.031609e-42  7.263492e-42  4.947645e-41\n",
            " [36]  3.263214e-40  2.085626e-39  1.292712e-38  7.775970e-38  4.542454e-37\n",
            " [41]  2.578639e-36  1.423382e-35  7.644289e-35  3.996488e-34  2.035054e-33\n",
            " [46]  1.009831e-32  4.885471e-32  2.305417e-31  1.061621e-30  4.772543e-30\n",
            " [51]  2.095398e-29  8.988514e-29  3.768565e-28  1.544850e-27  6.193954e-27\n",
            " [56]  2.429768e-26  9.328575e-26  3.506327e-25  1.290638e-24  4.653665e-24\n",
            " [61]  1.644159e-23  5.693320e-23  1.932732e-22  6.433830e-22  2.100695e-21\n",
            " [66]  6.729027e-21  2.115118e-20  6.525353e-20  1.976293e-19  5.877123e-19\n",
            " [71]  1.716444e-18  4.924120e-18  1.387848e-17  3.843683e-17  1.046214e-16\n",
            " [76]  2.799205e-16  7.363097e-16  1.904440e-15  4.844200e-15  1.211964e-14\n",
            " [81]  2.982868e-14  7.222972e-14  1.721058e-13  4.035809e-13  9.314898e-13\n",
            " [86]  2.116376e-12  4.733998e-12  1.042644e-11  2.261349e-11  4.830273e-11\n",
            " [91]  1.016241e-10  2.106147e-10  4.300251e-10  8.650798e-10  1.714821e-09\n",
            " [96]  3.349839e-09  6.449298e-09  1.223839e-08  2.289275e-08  4.221548e-08\n",
            "[101]  7.675070e-08  1.375833e-07  2.431964e-07  4.239264e-07  7.287844e-07\n",
            "[106]  1.235707e-06  2.066669e-06  3.409547e-06  5.549098e-06  8.909996e-06\n",
            "[111]  1.411531e-05  2.206423e-05  3.403298e-05  5.180241e-05  7.781522e-05\n",
            "[116]  1.153636e-04  1.688056e-04  2.438050e-04  3.475834e-04  4.891687e-04\n",
            "[121]  6.796156e-04  9.321681e-04  1.262328e-03  1.687785e-03  2.228172e-03\n",
            "[126]  2.904598e-03  3.738932e-03  4.752819e-03  5.966429e-03  7.396976e-03\n",
            "[131]  9.057053e-03  1.095289e-02  1.308261e-02  1.543476e-02  1.798701e-02\n",
            "[136]  2.070551e-02  2.354477e-02  2.644830e-02  2.935001e-02  3.217647e-02\n",
            "[141]  3.484978e-02  3.729105e-02  3.942420e-02  4.117993e-02  4.249942e-02\n",
            "[146]  4.333758e-02  4.366566e-02  4.347284e-02  4.276684e-02  4.157342e-02\n",
            "[151]  3.993479e-02  3.790720e-02  3.555769e-02  3.296048e-02  3.019312e-02\n",
            "[156]  2.733272e-02  2.445252e-02  2.161899e-02  1.888961e-02  1.631139e-02\n",
            "[161]  1.392012e-02  1.174041e-02  9.786218e-03  8.061964e-03  6.563929e-03\n",
            "[166]  5.281852e-03  4.200585e-03  3.301689e-03  2.564877e-03  1.969255e-03\n",
            "[171]  1.494317e-03  1.120699e-03  8.306938e-04  6.085521e-04  4.406143e-04\n",
            "[176]  3.152987e-04  2.229909e-04  1.558660e-04  1.076744e-04  7.351366e-05\n",
            "[181]  4.960381e-05  3.307882e-05  2.180065e-05  1.419937e-05  9.139962e-06\n",
            "[186]  5.814212e-06  3.655133e-06  2.270785e-06  1.394130e-06  8.458211e-07\n",
            "[191]  5.071021e-07  3.004325e-07  1.758837e-07  1.017475e-07  5.816112e-08\n",
            "[196]  3.285070e-08  1.833370e-08  1.010974e-08  5.508134e-09  2.965059e-09\n",
            "[201]  1.576943e-09  8.285937e-10  4.301290e-10  2.205847e-10  1.117530e-10\n",
            "[206]  5.592912e-11  2.765019e-11  1.350287e-11  6.513405e-12  3.103340e-12\n",
            "[211]  1.460410e-12  6.787806e-13  3.115852e-13  1.412540e-13  6.323891e-14\n",
            "[216]  2.795826e-14  1.220562e-14  5.261572e-15  2.239534e-15  9.411677e-16\n",
            "[221]  3.905020e-16  1.599580e-16  6.468349e-17  2.582047e-17  1.017409e-17\n",
            "[226]  3.956988e-18  1.518965e-18  5.754669e-19  2.151580e-19  7.938412e-20\n",
            "[231]  2.890163e-20  1.038237e-20  3.679839e-21  1.286738e-21  4.438659e-22\n",
            "[236]  1.510370e-22  5.069373e-23  1.678158e-23  5.478816e-24  1.763935e-24\n",
            "[241]  5.599978e-25  1.752923e-25  5.409739e-26  1.645848e-26  4.935887e-27\n",
            "[246]  1.459029e-27  4.250559e-28  1.220311e-28  3.452196e-29  9.622270e-30\n",
            "[251]  2.642241e-30  7.147183e-31  1.904224e-31  4.996590e-32  1.291079e-32\n",
            "[256]  3.284768e-33  8.227678e-34  2.028696e-34  4.923444e-35  1.175917e-35\n",
            "[261]  2.763643e-36  6.390356e-37  1.453598e-37  3.252198e-38  7.155786e-39\n",
            "[266]  1.548170e-39  3.293001e-40  6.885031e-41  1.414776e-41  2.856679e-42\n",
            "[271]  5.666953e-43  1.104262e-43  2.113225e-44  3.970869e-45  7.324929e-46\n",
            "[276]  1.326198e-46  2.356167e-47  4.106766e-48  7.020844e-49  1.176984e-49\n",
            "[281]  1.934353e-50  3.115834e-51  4.917800e-52  7.603368e-53  1.151214e-53\n",
            "[286]  1.706447e-54  2.475615e-55  3.513893e-56  4.878267e-57  6.621626e-58\n",
            "[291]  8.784771e-59  1.138678e-59  1.441478e-60  1.781456e-61  2.148420e-62\n",
            "[296]  2.527253e-63  2.898432e-64  3.239313e-65  3.526133e-66  3.736546e-67\n",
            "[301]  3.852357e-68  3.862012e-69  3.762400e-70  3.559586e-71  3.268295e-72\n",
            "[306]  2.910164e-73  2.511064e-74  2.097934e-75  1.695699e-76  1.324750e-77\n",
            "[311]  9.993725e-79  7.272469e-80  5.099397e-81  3.441329e-82  2.232307e-83\n",
            "[316]  1.389985e-84  8.295772e-86  4.738080e-87  2.585215e-88  1.345000e-89\n",
            "[321]  6.658635e-91  3.129708e-92  1.393141e-93  5.856777e-95  2.318228e-96\n",
            "[326]  8.609668e-98  2.988503e-99 9.652227e-101 2.885962e-102 7.940898e-104\n",
            "[331] 1.996834e-105 4.551007e-107 9.306911e-109 1.686728e-110 2.666798e-112\n",
            "[336] 3.603215e-114 4.044962e-116 3.621914e-118 2.425137e-120 1.079345e-122\n",
            "[341] 2.394831e-125\n"
          ]
        },
        {
          "output_type": "display_data",
          "data": {
            "text/plain": [
              "[1] 147"
            ],
            "text/latex": "147",
            "text/markdown": "147",
            "text/html": [
              "147"
            ]
          },
          "metadata": {}
        }
      ]
    },
    {
      "cell_type": "markdown",
      "metadata": {
        "id": "2e17347b"
      },
      "source": [
        "Q4. Plot the two following distributions:\n",
        "\n",
        "$$\n",
        "x \\sim \\mathcal{N}(10, 0.5) \\\\\n",
        "y \\sim \\mathcal{N}(10.2, 0.5) \\\\\n",
        "$$\n",
        "\n",
        "* Your plot should look like the following\n",
        "![](https://www.dropbox.com/s/psrjtl6abjla7z5/sample_gaussian_plot.png?dl=1)\n",
        "\n",
        "\n",
        "* Draw 40 values from the first distribution and store them in a variable called `x_sample`\n",
        "* Draw 40 values from the second distribution and store them in a variable called `y_sample`\n",
        "  * make sure you run the following line before you sample data\n",
        "  ```set.seed(42)```\n",
        " \n",
        "* Do a `t-`test to compute the `x_sample` and `y_sample`\n",
        "  * A `t-`test compares two vectors of values and predicts if the two vectors are from the same distribution\n",
        "  * The format for the t-test in R is\n",
        " \n",
        " `t.test(x,y)` where `x` an `y` are the vectors of values we would like to compare.\n",
        "  * Look at the `p-value`, if it's smaller than say 0.05, then there is a statistically significant difference between the two datasets.\n",
        "\n",
        "* Do you agree with the conclusion of the `t-test`. In other words, would you be comfortable reporting in a publication that the data in `x_sample` and `y_sample` are statistically different?"
      ],
      "id": "2e17347b"
    },
    {
      "cell_type": "code",
      "metadata": {
        "id": "756f4ec4",
        "colab": {
          "base_uri": "https://localhost:8080/",
          "height": 437
        },
        "outputId": "9dab3aec-509a-412d-9d09-f9253a2264be"
      },
      "source": [
        "# Write the code to draw the plot here\n",
        "prob_1 <- dnorm(x_sample, mean = 10, sd = 0.5)\n",
        "prob_2 <- dnorm(y_sample, mean = 10.2, sd = 0.5)\n",
        "\n",
        "ggplot() +\n",
        "geom_line (aes(x = x_sample, y = prob_1, colour = \"pink\")) +\n",
        "geom_line(aes(x = y_sample, y=prob_2, colour=\"purple\"))+\n",
        "scale_color_manual(labels = c(\"N(1, 2.3)\", \"N(0,1)\"), values = c(\"purple\", \"pink\")) \n"
      ],
      "id": "756f4ec4",
      "execution_count": 42,
      "outputs": [
        {
          "output_type": "display_data",
          "data": {
            "image/png": "[encoded data removed]",
            "text/plain": [
              "plot without title"
            ]
          },
          "metadata": {
            "image/png": {
              "width": 420,
              "height": 420
            }
          }
        }
      ]
    },
    {
      "cell_type": "code",
      "metadata": {
        "colab": {
          "base_uri": "https://localhost:8080/",
          "height": 136
        },
        "id": "LT-OFxZfA-n5",
        "outputId": "d2778113-9d4d-414f-e96f-4f1c51b50e69"
      },
      "source": [
        "set.seed(42)\n",
        "x_sample = rnorm(40, mean = 10, sd = 0.5)\n",
        "x_sample"
      ],
      "id": "LT-OFxZfA-n5",
      "execution_count": 43,
      "outputs": [
        {
          "output_type": "display_data",
          "data": {
            "text/plain": [
              " [1] 10.685479  9.717651 10.181564 10.316431 10.202134  9.946938 10.755761\n",
              " [8]  9.952670 11.009212  9.968643 10.652435 11.143323  9.305570  9.860606\n",
              "[15]  9.933339 10.317975  9.857874  8.671772  8.779767 10.660057  9.846681\n",
              "[22]  9.109346  9.914041 10.607337 10.947597  9.784765  9.871365  9.118418\n",
              "[29] 10.230049  9.680003 10.227725 10.352419 10.517552  9.695537 10.252478\n",
              "[36]  9.141496  9.607770  9.574546  8.792896 10.018061"
            ],
            "text/latex": "\\begin{enumerate*}\n\\item 10.6854792235733\n\\item 9.71765091430196\n\\item 10.1815642056687\n\\item 10.3164313024805\n\\item 10.2021341615705\n\\item 9.94693774195426\n\\item 10.7557609987195\n\\item 9.95267048079345\n\\item 11.0092118569385\n\\item 9.96864295047379\n\\item 10.6524348271117\n\\item 11.1433226963506\n\\item 9.30556964944383\n\\item 9.86060561659131\n\\item 9.93333933180317\n\\item 10.317975199035\n\\item 9.85787353929196\n\\item 8.67177228954761\n\\item 8.77976653571224\n\\item 10.6600566728651\n\\item 9.84668070296076\n\\item 9.10934578301\n\\item 9.91404132212019\n\\item 10.6073373495863\n\\item 10.9475967306325\n\\item 9.7847654341969\n\\item 9.87136530861554\n\\item 9.11841845740261\n\\item 10.2300486774156\n\\item 9.68000256201994\n\\item 10.2277250616206\n\\item 10.3524186686144\n\\item 10.517551760985\n\\item 9.69553681229639\n\\item 10.252477561649\n\\item 9.14149566046333\n\\item 9.60777049581025\n\\item 9.57454620291174\n\\item 8.79289617502668\n\\item 10.0180613034461\n\\end{enumerate*}\n",
            "text/markdown": "1. 10.6854792235733\n2. 9.71765091430196\n3. 10.1815642056687\n4. 10.3164313024805\n5. 10.2021341615705\n6. 9.94693774195426\n7. 10.7557609987195\n8. 9.95267048079345\n9. 11.0092118569385\n10. 9.96864295047379\n11. 10.6524348271117\n12. 11.1433226963506\n13. 9.30556964944383\n14. 9.86060561659131\n15. 9.93333933180317\n16. 10.317975199035\n17. 9.85787353929196\n18. 8.67177228954761\n19. 8.77976653571224\n20. 10.6600566728651\n21. 9.84668070296076\n22. 9.10934578301\n23. 9.91404132212019\n24. 10.6073373495863\n25. 10.9475967306325\n26. 9.7847654341969\n27. 9.87136530861554\n28. 9.11841845740261\n29. 10.2300486774156\n30. 9.68000256201994\n31. 10.2277250616206\n32. 10.3524186686144\n33. 10.517551760985\n34. 9.69553681229639\n35. 10.252477561649\n36. 9.14149566046333\n37. 9.60777049581025\n38. 9.57454620291174\n39. 8.79289617502668\n40. 10.0180613034461\n\n\n",
            "text/html": [
              "<style>\n",
              ".list-inline {list-style: none; margin:0; padding: 0}\n",
              ".list-inline>li {display: inline-block}\n",
              ".list-inline>li:not(:last-child)::after {content: \"\\00b7\"; padding: 0 .5ex}\n",
              "</style>\n",
              "<ol class=list-inline><li>10.6854792235733</li><li>9.71765091430196</li><li>10.1815642056687</li><li>10.3164313024805</li><li>10.2021341615705</li><li>9.94693774195426</li><li>10.7557609987195</li><li>9.95267048079345</li><li>11.0092118569385</li><li>9.96864295047379</li><li>10.6524348271117</li><li>11.1433226963506</li><li>9.30556964944383</li><li>9.86060561659131</li><li>9.93333933180317</li><li>10.317975199035</li><li>9.85787353929196</li><li>8.67177228954761</li><li>8.77976653571224</li><li>10.6600566728651</li><li>9.84668070296076</li><li>9.10934578301</li><li>9.91404132212019</li><li>10.6073373495863</li><li>10.9475967306325</li><li>9.7847654341969</li><li>9.87136530861554</li><li>9.11841845740261</li><li>10.2300486774156</li><li>9.68000256201994</li><li>10.2277250616206</li><li>10.3524186686144</li><li>10.517551760985</li><li>9.69553681229639</li><li>10.252477561649</li><li>9.14149566046333</li><li>9.60777049581025</li><li>9.57454620291174</li><li>8.79289617502668</li><li>10.0180613034461</li></ol>\n"
            ]
          },
          "metadata": {}
        }
      ]
    },
    {
      "cell_type": "code",
      "metadata": {
        "colab": {
          "base_uri": "https://localhost:8080/",
          "height": 136
        },
        "id": "o-pqvo6eErKy",
        "outputId": "f289f02b-d56e-4aaf-f860-613126316b94"
      },
      "source": [
        "set.seed(42)\n",
        "y_sample = rnorm(40, mean = 10.2, sd = 0.5)\n",
        "y_sample"
      ],
      "id": "o-pqvo6eErKy",
      "execution_count": 44,
      "outputs": [
        {
          "output_type": "display_data",
          "data": {
            "text/plain": [
              " [1] 10.885479  9.917651 10.381564 10.516431 10.402134 10.146938 10.955761\n",
              " [8] 10.152670 11.209212 10.168643 10.852435 11.343323  9.505570 10.060606\n",
              "[15] 10.133339 10.517975 10.057874  8.871772  8.979767 10.860057 10.046681\n",
              "[22]  9.309346 10.114041 10.807337 11.147597  9.984765 10.071365  9.318418\n",
              "[29] 10.430049  9.880003 10.427725 10.552419 10.717552  9.895537 10.452478\n",
              "[36]  9.341496  9.807770  9.774546  8.992896 10.218061"
            ],
            "text/latex": "\\begin{enumerate*}\n\\item 10.8854792235733\n\\item 9.91765091430196\n\\item 10.3815642056687\n\\item 10.5164313024805\n\\item 10.4021341615705\n\\item 10.1469377419543\n\\item 10.9557609987195\n\\item 10.1526704807935\n\\item 11.2092118569385\n\\item 10.1686429504738\n\\item 10.8524348271117\n\\item 11.3433226963506\n\\item 9.50556964944383\n\\item 10.0606056165913\n\\item 10.1333393318032\n\\item 10.517975199035\n\\item 10.057873539292\n\\item 8.87177228954761\n\\item 8.97976653571224\n\\item 10.8600566728651\n\\item 10.0466807029608\n\\item 9.30934578301\n\\item 10.1140413221202\n\\item 10.8073373495863\n\\item 11.1475967306325\n\\item 9.9847654341969\n\\item 10.0713653086155\n\\item 9.31841845740261\n\\item 10.4300486774156\n\\item 9.88000256201994\n\\item 10.4277250616206\n\\item 10.5524186686144\n\\item 10.717551760985\n\\item 9.89553681229639\n\\item 10.452477561649\n\\item 9.34149566046333\n\\item 9.80777049581025\n\\item 9.77454620291174\n\\item 8.99289617502668\n\\item 10.2180613034461\n\\end{enumerate*}\n",
            "text/markdown": "1. 10.8854792235733\n2. 9.91765091430196\n3. 10.3815642056687\n4. 10.5164313024805\n5. 10.4021341615705\n6. 10.1469377419543\n7. 10.9557609987195\n8. 10.1526704807935\n9. 11.2092118569385\n10. 10.1686429504738\n11. 10.8524348271117\n12. 11.3433226963506\n13. 9.50556964944383\n14. 10.0606056165913\n15. 10.1333393318032\n16. 10.517975199035\n17. 10.057873539292\n18. 8.87177228954761\n19. 8.97976653571224\n20. 10.8600566728651\n21. 10.0466807029608\n22. 9.30934578301\n23. 10.1140413221202\n24. 10.8073373495863\n25. 11.1475967306325\n26. 9.9847654341969\n27. 10.0713653086155\n28. 9.31841845740261\n29. 10.4300486774156\n30. 9.88000256201994\n31. 10.4277250616206\n32. 10.5524186686144\n33. 10.717551760985\n34. 9.89553681229639\n35. 10.452477561649\n36. 9.34149566046333\n37. 9.80777049581025\n38. 9.77454620291174\n39. 8.99289617502668\n40. 10.2180613034461\n\n\n",
            "text/html": [
              "<style>\n",
              ".list-inline {list-style: none; margin:0; padding: 0}\n",
              ".list-inline>li {display: inline-block}\n",
              ".list-inline>li:not(:last-child)::after {content: \"\\00b7\"; padding: 0 .5ex}\n",
              "</style>\n",
              "<ol class=list-inline><li>10.8854792235733</li><li>9.91765091430196</li><li>10.3815642056687</li><li>10.5164313024805</li><li>10.4021341615705</li><li>10.1469377419543</li><li>10.9557609987195</li><li>10.1526704807935</li><li>11.2092118569385</li><li>10.1686429504738</li><li>10.8524348271117</li><li>11.3433226963506</li><li>9.50556964944383</li><li>10.0606056165913</li><li>10.1333393318032</li><li>10.517975199035</li><li>10.057873539292</li><li>8.87177228954761</li><li>8.97976653571224</li><li>10.8600566728651</li><li>10.0466807029608</li><li>9.30934578301</li><li>10.1140413221202</li><li>10.8073373495863</li><li>11.1475967306325</li><li>9.9847654341969</li><li>10.0713653086155</li><li>9.31841845740261</li><li>10.4300486774156</li><li>9.88000256201994</li><li>10.4277250616206</li><li>10.5524186686144</li><li>10.717551760985</li><li>9.89553681229639</li><li>10.452477561649</li><li>9.34149566046333</li><li>9.80777049581025</li><li>9.77454620291174</li><li>8.99289617502668</li><li>10.2180613034461</li></ol>\n"
            ]
          },
          "metadata": {}
        }
      ]
    },
    {
      "cell_type": "code",
      "metadata": {
        "colab": {
          "base_uri": "https://localhost:8080/",
          "height": 204
        },
        "id": "wV0tbfFXFD9J",
        "outputId": "0a16b0be-c147-413d-a1d2-118b07a98cd2"
      },
      "source": [
        "t.test(x_sample,y_sample)\n",
        "#not statistically different. Would not state these are statistically different in a publication"
      ],
      "id": "wV0tbfFXFD9J",
      "execution_count": 45,
      "outputs": [
        {
          "output_type": "display_data",
          "data": {
            "text/plain": [
              "\n",
              "\tWelch Two Sample t-test\n",
              "\n",
              "data:  x_sample and y_sample\n",
              "t = -1.4634, df = 78, p-value = 0.1474\n",
              "alternative hypothesis: true difference in means is not equal to 0\n",
              "95 percent confidence interval:\n",
              " -0.47208333  0.07208333\n",
              "sample estimates:\n",
              "mean of x mean of y \n",
              " 9.980232 10.180232 \n"
            ]
          },
          "metadata": {}
        }
      ]
    },
    {
      "cell_type": "markdown",
      "metadata": {
        "id": "9fedba3e"
      },
      "source": [
        "Q5. Challenge\n",
        "\n",
        "* We have used the function `dnorm` to plot the bell-shaped curve for a distribution $ x \\sim \\mathcal{N}(10, 0.5)$\n",
        "  * Use seq(8, 12, 0.1) to generate the x-axis values\n",
        "  * The pdf should look like the following\n",
        "\n",
        "![](https://www.dropbox.com/s/jl2c2atpkxze7ev/sample_pdf_sum_question.png?dl=1)\n",
        "\n",
        "* Use `dnorm` to compute the probability density for each point along the $x-$axis generated using `seq()` above\n",
        "  * What do you notice?\n",
        "  * How do you fix that?\n",
        "  \n"
      ],
      "id": "9fedba3e"
    },
    {
      "cell_type": "code",
      "metadata": {
        "id": "e6acec6e",
        "colab": {
          "base_uri": "https://localhost:8080/",
          "height": 437
        },
        "outputId": "3de989be-5c86-41fd-801b-c25ce8dbaa10"
      },
      "source": [
        "prob_1 <- dnorm(x_sample, mean = 10, sd = 0.5)\n",
        "prob_2 <- dnorm(y_sample, mean = 10.2, sd = 0.5)\n",
        "\n",
        "ggplot(xlim = c(8, 12, 0.1)) +\n",
        "geom_line (aes(x = x_sample, y = prob_1, colour = \"pink\")) +\n",
        "geom_line(aes(x = y_sample, y=prob_2, colour=\"purple\"))+\n",
        "scale_color_manual(labels = c(\"N(1, 2.3)\", \"N(0,1)\"), values = c(\"purple\", \"pink\")) \n",
        "\n",
        "\n"
      ],
      "id": "e6acec6e",
      "execution_count": 50,
      "outputs": [
        {
          "output_type": "display_data",
          "data": {
            "image/png": "[encoded data removed]",
            "text/plain": [
              "plot without title"
            ]
          },
          "metadata": {
            "image/png": {
              "width": 420,
              "height": 420
            }
          }
        }
      ]
    },
    {
      "cell_type": "code",
      "metadata": {
        "id": "5ef242fc",
        "colab": {
          "base_uri": "https://localhost:8080/",
          "height": 34
        },
        "outputId": "2ebf07a8-0b3b-481e-ea41-61e2f1d00f55"
      },
      "source": [
        "dnorm(c(8, 12, 0.1), mean = 10, sd = 0.5)"
      ],
      "id": "5ef242fc",
      "execution_count": 52,
      "outputs": [
        {
          "output_type": "display_data",
          "data": {
            "text/plain": [
              "[1] 2.676605e-04 2.676605e-04 5.909296e-86"
            ],
            "text/latex": "\\begin{enumerate*}\n\\item 0.000267660451529771\n\\item 0.000267660451529771\n\\item 5.90929564931822e-86\n\\end{enumerate*}\n",
            "text/markdown": "1. 0.000267660451529771\n2. 0.000267660451529771\n3. 5.90929564931822e-86\n\n\n",
            "text/html": [
              "<style>\n",
              ".list-inline {list-style: none; margin:0; padding: 0}\n",
              ".list-inline>li {display: inline-block}\n",
              ".list-inline>li:not(:last-child)::after {content: \"\\00b7\"; padding: 0 .5ex}\n",
              "</style>\n",
              "<ol class=list-inline><li>0.000267660451529771</li><li>0.000267660451529771</li><li>5.90929564931822e-86</li></ol>\n"
            ]
          },
          "metadata": {}
        }
      ]
    }
  ]
}